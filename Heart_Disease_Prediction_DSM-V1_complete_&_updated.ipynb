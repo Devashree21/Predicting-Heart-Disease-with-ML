{
 "cells": [
  {
   "cell_type": "code",
   "execution_count": 1,
   "metadata": {},
   "outputs": [],
   "source": [
    "# getting started with the model \n",
    "# importing required libraries/packages \n",
    "\n",
    "import pandas as pd\n",
    "import numpy as np\n",
    "import matplotlib.pyplot as plt\n",
    "import seaborn as sns\n",
    "\n",
    "#import time for training details\n",
    "from time import time\n",
    "t0 = time()\n",
    "\n",
    "import warnings\n",
    "warnings.filterwarnings('ignore')"
   ]
  },
  {
   "cell_type": "code",
   "execution_count": 2,
   "metadata": {},
   "outputs": [],
   "source": [
    "# Importing and Reading the Dataset\n",
    "df_heart= pd.read_csv(r\"C:\\Users\\Devashree\\Desktop\\Devashree\\Python_Programs\\heart.csv\")"
   ]
  },
  {
   "cell_type": "code",
   "execution_count": 3,
   "metadata": {},
   "outputs": [
    {
     "name": "stdout",
     "output_type": "stream",
     "text": [
      "Total number of rows: 303\n",
      "Total number of columns: 14\n"
     ]
    }
   ],
   "source": [
    "df_heart_row_count, df_heart_column_count=df_heart.shape\n",
    "print('Total number of rows:', df_heart_row_count)\n",
    "print('Total number of columns:', df_heart_column_count)"
   ]
  },
  {
   "cell_type": "code",
   "execution_count": 4,
   "metadata": {},
   "outputs": [
    {
     "name": "stdout",
     "output_type": "stream",
     "text": [
      "<class 'pandas.core.frame.DataFrame'>\n",
      "RangeIndex: 303 entries, 0 to 302\n",
      "Data columns (total 14 columns):\n",
      "age         303 non-null int64\n",
      "sex         303 non-null int64\n",
      "cp          303 non-null int64\n",
      "trestbps    303 non-null int64\n",
      "chol        303 non-null int64\n",
      "fbs         303 non-null int64\n",
      "restecg     303 non-null int64\n",
      "thalach     303 non-null int64\n",
      "exang       303 non-null int64\n",
      "oldpeak     303 non-null float64\n",
      "slope       303 non-null int64\n",
      "ca          303 non-null int64\n",
      "thal        303 non-null int64\n",
      "target      303 non-null int64\n",
      "dtypes: float64(1), int64(13)\n",
      "memory usage: 33.2 KB\n"
     ]
    }
   ],
   "source": [
    "df_heart.info()"
   ]
  },
  {
   "cell_type": "code",
   "execution_count": 5,
   "metadata": {},
   "outputs": [
    {
     "data": {
      "text/html": [
       "<div>\n",
       "<style scoped>\n",
       "    .dataframe tbody tr th:only-of-type {\n",
       "        vertical-align: middle;\n",
       "    }\n",
       "\n",
       "    .dataframe tbody tr th {\n",
       "        vertical-align: top;\n",
       "    }\n",
       "\n",
       "    .dataframe thead th {\n",
       "        text-align: right;\n",
       "    }\n",
       "</style>\n",
       "<table border=\"1\" class=\"dataframe\">\n",
       "  <thead>\n",
       "    <tr style=\"text-align: right;\">\n",
       "      <th></th>\n",
       "      <th>age</th>\n",
       "      <th>sex</th>\n",
       "      <th>cp</th>\n",
       "      <th>trestbps</th>\n",
       "      <th>chol</th>\n",
       "      <th>fbs</th>\n",
       "      <th>restecg</th>\n",
       "      <th>thalach</th>\n",
       "      <th>exang</th>\n",
       "      <th>oldpeak</th>\n",
       "      <th>slope</th>\n",
       "      <th>ca</th>\n",
       "      <th>thal</th>\n",
       "      <th>target</th>\n",
       "    </tr>\n",
       "  </thead>\n",
       "  <tbody>\n",
       "    <tr>\n",
       "      <th>count</th>\n",
       "      <td>303.000000</td>\n",
       "      <td>303.000000</td>\n",
       "      <td>303.000000</td>\n",
       "      <td>303.000000</td>\n",
       "      <td>303.000000</td>\n",
       "      <td>303.000000</td>\n",
       "      <td>303.000000</td>\n",
       "      <td>303.000000</td>\n",
       "      <td>303.000000</td>\n",
       "      <td>303.000000</td>\n",
       "      <td>303.000000</td>\n",
       "      <td>303.000000</td>\n",
       "      <td>303.000000</td>\n",
       "      <td>303.000000</td>\n",
       "    </tr>\n",
       "    <tr>\n",
       "      <th>mean</th>\n",
       "      <td>54.366337</td>\n",
       "      <td>0.683168</td>\n",
       "      <td>0.966997</td>\n",
       "      <td>131.623762</td>\n",
       "      <td>246.264026</td>\n",
       "      <td>0.148515</td>\n",
       "      <td>0.528053</td>\n",
       "      <td>149.646865</td>\n",
       "      <td>0.326733</td>\n",
       "      <td>1.039604</td>\n",
       "      <td>1.399340</td>\n",
       "      <td>0.729373</td>\n",
       "      <td>2.313531</td>\n",
       "      <td>0.544554</td>\n",
       "    </tr>\n",
       "    <tr>\n",
       "      <th>std</th>\n",
       "      <td>9.082101</td>\n",
       "      <td>0.466011</td>\n",
       "      <td>1.032052</td>\n",
       "      <td>17.538143</td>\n",
       "      <td>51.830751</td>\n",
       "      <td>0.356198</td>\n",
       "      <td>0.525860</td>\n",
       "      <td>22.905161</td>\n",
       "      <td>0.469794</td>\n",
       "      <td>1.161075</td>\n",
       "      <td>0.616226</td>\n",
       "      <td>1.022606</td>\n",
       "      <td>0.612277</td>\n",
       "      <td>0.498835</td>\n",
       "    </tr>\n",
       "    <tr>\n",
       "      <th>min</th>\n",
       "      <td>29.000000</td>\n",
       "      <td>0.000000</td>\n",
       "      <td>0.000000</td>\n",
       "      <td>94.000000</td>\n",
       "      <td>126.000000</td>\n",
       "      <td>0.000000</td>\n",
       "      <td>0.000000</td>\n",
       "      <td>71.000000</td>\n",
       "      <td>0.000000</td>\n",
       "      <td>0.000000</td>\n",
       "      <td>0.000000</td>\n",
       "      <td>0.000000</td>\n",
       "      <td>0.000000</td>\n",
       "      <td>0.000000</td>\n",
       "    </tr>\n",
       "    <tr>\n",
       "      <th>25%</th>\n",
       "      <td>47.500000</td>\n",
       "      <td>0.000000</td>\n",
       "      <td>0.000000</td>\n",
       "      <td>120.000000</td>\n",
       "      <td>211.000000</td>\n",
       "      <td>0.000000</td>\n",
       "      <td>0.000000</td>\n",
       "      <td>133.500000</td>\n",
       "      <td>0.000000</td>\n",
       "      <td>0.000000</td>\n",
       "      <td>1.000000</td>\n",
       "      <td>0.000000</td>\n",
       "      <td>2.000000</td>\n",
       "      <td>0.000000</td>\n",
       "    </tr>\n",
       "    <tr>\n",
       "      <th>50%</th>\n",
       "      <td>55.000000</td>\n",
       "      <td>1.000000</td>\n",
       "      <td>1.000000</td>\n",
       "      <td>130.000000</td>\n",
       "      <td>240.000000</td>\n",
       "      <td>0.000000</td>\n",
       "      <td>1.000000</td>\n",
       "      <td>153.000000</td>\n",
       "      <td>0.000000</td>\n",
       "      <td>0.800000</td>\n",
       "      <td>1.000000</td>\n",
       "      <td>0.000000</td>\n",
       "      <td>2.000000</td>\n",
       "      <td>1.000000</td>\n",
       "    </tr>\n",
       "    <tr>\n",
       "      <th>75%</th>\n",
       "      <td>61.000000</td>\n",
       "      <td>1.000000</td>\n",
       "      <td>2.000000</td>\n",
       "      <td>140.000000</td>\n",
       "      <td>274.500000</td>\n",
       "      <td>0.000000</td>\n",
       "      <td>1.000000</td>\n",
       "      <td>166.000000</td>\n",
       "      <td>1.000000</td>\n",
       "      <td>1.600000</td>\n",
       "      <td>2.000000</td>\n",
       "      <td>1.000000</td>\n",
       "      <td>3.000000</td>\n",
       "      <td>1.000000</td>\n",
       "    </tr>\n",
       "    <tr>\n",
       "      <th>max</th>\n",
       "      <td>77.000000</td>\n",
       "      <td>1.000000</td>\n",
       "      <td>3.000000</td>\n",
       "      <td>200.000000</td>\n",
       "      <td>564.000000</td>\n",
       "      <td>1.000000</td>\n",
       "      <td>2.000000</td>\n",
       "      <td>202.000000</td>\n",
       "      <td>1.000000</td>\n",
       "      <td>6.200000</td>\n",
       "      <td>2.000000</td>\n",
       "      <td>4.000000</td>\n",
       "      <td>3.000000</td>\n",
       "      <td>1.000000</td>\n",
       "    </tr>\n",
       "  </tbody>\n",
       "</table>\n",
       "</div>"
      ],
      "text/plain": [
       "              age         sex          cp    trestbps        chol         fbs  \\\n",
       "count  303.000000  303.000000  303.000000  303.000000  303.000000  303.000000   \n",
       "mean    54.366337    0.683168    0.966997  131.623762  246.264026    0.148515   \n",
       "std      9.082101    0.466011    1.032052   17.538143   51.830751    0.356198   \n",
       "min     29.000000    0.000000    0.000000   94.000000  126.000000    0.000000   \n",
       "25%     47.500000    0.000000    0.000000  120.000000  211.000000    0.000000   \n",
       "50%     55.000000    1.000000    1.000000  130.000000  240.000000    0.000000   \n",
       "75%     61.000000    1.000000    2.000000  140.000000  274.500000    0.000000   \n",
       "max     77.000000    1.000000    3.000000  200.000000  564.000000    1.000000   \n",
       "\n",
       "          restecg     thalach       exang     oldpeak       slope          ca  \\\n",
       "count  303.000000  303.000000  303.000000  303.000000  303.000000  303.000000   \n",
       "mean     0.528053  149.646865    0.326733    1.039604    1.399340    0.729373   \n",
       "std      0.525860   22.905161    0.469794    1.161075    0.616226    1.022606   \n",
       "min      0.000000   71.000000    0.000000    0.000000    0.000000    0.000000   \n",
       "25%      0.000000  133.500000    0.000000    0.000000    1.000000    0.000000   \n",
       "50%      1.000000  153.000000    0.000000    0.800000    1.000000    0.000000   \n",
       "75%      1.000000  166.000000    1.000000    1.600000    2.000000    1.000000   \n",
       "max      2.000000  202.000000    1.000000    6.200000    2.000000    4.000000   \n",
       "\n",
       "             thal      target  \n",
       "count  303.000000  303.000000  \n",
       "mean     2.313531    0.544554  \n",
       "std      0.612277    0.498835  \n",
       "min      0.000000    0.000000  \n",
       "25%      2.000000    0.000000  \n",
       "50%      2.000000    1.000000  \n",
       "75%      3.000000    1.000000  \n",
       "max      3.000000    1.000000  "
      ]
     },
     "execution_count": 5,
     "metadata": {},
     "output_type": "execute_result"
    }
   ],
   "source": [
    "df_heart.describe()"
   ]
  },
  {
   "cell_type": "code",
   "execution_count": 6,
   "metadata": {},
   "outputs": [
    {
     "data": {
      "text/plain": [
       "age         0\n",
       "sex         0\n",
       "cp          0\n",
       "trestbps    0\n",
       "chol        0\n",
       "fbs         0\n",
       "restecg     0\n",
       "thalach     0\n",
       "exang       0\n",
       "oldpeak     0\n",
       "slope       0\n",
       "ca          0\n",
       "thal        0\n",
       "target      0\n",
       "dtype: int64"
      ]
     },
     "execution_count": 6,
     "metadata": {},
     "output_type": "execute_result"
    }
   ],
   "source": [
    "df_heart.isna().sum()"
   ]
  },
  {
   "cell_type": "code",
   "execution_count": 7,
   "metadata": {},
   "outputs": [
    {
     "data": {
      "text/html": [
       "<div>\n",
       "<style scoped>\n",
       "    .dataframe tbody tr th:only-of-type {\n",
       "        vertical-align: middle;\n",
       "    }\n",
       "\n",
       "    .dataframe tbody tr th {\n",
       "        vertical-align: top;\n",
       "    }\n",
       "\n",
       "    .dataframe thead th {\n",
       "        text-align: right;\n",
       "    }\n",
       "</style>\n",
       "<table border=\"1\" class=\"dataframe\">\n",
       "  <thead>\n",
       "    <tr style=\"text-align: right;\">\n",
       "      <th></th>\n",
       "      <th>age</th>\n",
       "      <th>sex</th>\n",
       "      <th>cp</th>\n",
       "      <th>trestbps</th>\n",
       "      <th>chol</th>\n",
       "      <th>fbs</th>\n",
       "      <th>restecg</th>\n",
       "      <th>thalach</th>\n",
       "      <th>exang</th>\n",
       "      <th>oldpeak</th>\n",
       "      <th>slope</th>\n",
       "      <th>ca</th>\n",
       "      <th>thal</th>\n",
       "      <th>target</th>\n",
       "    </tr>\n",
       "  </thead>\n",
       "  <tbody>\n",
       "    <tr>\n",
       "      <th>0</th>\n",
       "      <td>63</td>\n",
       "      <td>1</td>\n",
       "      <td>3</td>\n",
       "      <td>145</td>\n",
       "      <td>233</td>\n",
       "      <td>1</td>\n",
       "      <td>0</td>\n",
       "      <td>150</td>\n",
       "      <td>0</td>\n",
       "      <td>2.3</td>\n",
       "      <td>0</td>\n",
       "      <td>0</td>\n",
       "      <td>1</td>\n",
       "      <td>1</td>\n",
       "    </tr>\n",
       "    <tr>\n",
       "      <th>1</th>\n",
       "      <td>37</td>\n",
       "      <td>1</td>\n",
       "      <td>2</td>\n",
       "      <td>130</td>\n",
       "      <td>250</td>\n",
       "      <td>0</td>\n",
       "      <td>1</td>\n",
       "      <td>187</td>\n",
       "      <td>0</td>\n",
       "      <td>3.5</td>\n",
       "      <td>0</td>\n",
       "      <td>0</td>\n",
       "      <td>2</td>\n",
       "      <td>1</td>\n",
       "    </tr>\n",
       "    <tr>\n",
       "      <th>2</th>\n",
       "      <td>41</td>\n",
       "      <td>0</td>\n",
       "      <td>1</td>\n",
       "      <td>130</td>\n",
       "      <td>204</td>\n",
       "      <td>0</td>\n",
       "      <td>0</td>\n",
       "      <td>172</td>\n",
       "      <td>0</td>\n",
       "      <td>1.4</td>\n",
       "      <td>2</td>\n",
       "      <td>0</td>\n",
       "      <td>2</td>\n",
       "      <td>1</td>\n",
       "    </tr>\n",
       "    <tr>\n",
       "      <th>3</th>\n",
       "      <td>56</td>\n",
       "      <td>1</td>\n",
       "      <td>1</td>\n",
       "      <td>120</td>\n",
       "      <td>236</td>\n",
       "      <td>0</td>\n",
       "      <td>1</td>\n",
       "      <td>178</td>\n",
       "      <td>0</td>\n",
       "      <td>0.8</td>\n",
       "      <td>2</td>\n",
       "      <td>0</td>\n",
       "      <td>2</td>\n",
       "      <td>1</td>\n",
       "    </tr>\n",
       "    <tr>\n",
       "      <th>4</th>\n",
       "      <td>57</td>\n",
       "      <td>0</td>\n",
       "      <td>0</td>\n",
       "      <td>120</td>\n",
       "      <td>354</td>\n",
       "      <td>0</td>\n",
       "      <td>1</td>\n",
       "      <td>163</td>\n",
       "      <td>1</td>\n",
       "      <td>0.6</td>\n",
       "      <td>2</td>\n",
       "      <td>0</td>\n",
       "      <td>2</td>\n",
       "      <td>1</td>\n",
       "    </tr>\n",
       "  </tbody>\n",
       "</table>\n",
       "</div>"
      ],
      "text/plain": [
       "   age  sex  cp  trestbps  chol  fbs  restecg  thalach  exang  oldpeak  slope  \\\n",
       "0   63    1   3       145   233    1        0      150      0      2.3      0   \n",
       "1   37    1   2       130   250    0        1      187      0      3.5      0   \n",
       "2   41    0   1       130   204    0        0      172      0      1.4      2   \n",
       "3   56    1   1       120   236    0        1      178      0      0.8      2   \n",
       "4   57    0   0       120   354    0        1      163      1      0.6      2   \n",
       "\n",
       "   ca  thal  target  \n",
       "0   0     1       1  \n",
       "1   0     2       1  \n",
       "2   0     2       1  \n",
       "3   0     2       1  \n",
       "4   0     2       1  "
      ]
     },
     "execution_count": 7,
     "metadata": {},
     "output_type": "execute_result"
    }
   ],
   "source": [
    "df_heart.head().iloc[:5]"
   ]
  },
  {
   "cell_type": "code",
   "execution_count": 8,
   "metadata": {},
   "outputs": [
    {
     "data": {
      "text/plain": [
       "1    165\n",
       "0    138\n",
       "Name: target, dtype: int64"
      ]
     },
     "execution_count": 8,
     "metadata": {},
     "output_type": "execute_result"
    }
   ],
   "source": [
    "df_heart.target.value_counts()"
   ]
  },
  {
   "cell_type": "code",
   "execution_count": 9,
   "metadata": {},
   "outputs": [
    {
     "data": {
      "text/plain": [
       "1    207\n",
       "0     96\n",
       "Name: sex, dtype: int64"
      ]
     },
     "execution_count": 9,
     "metadata": {},
     "output_type": "execute_result"
    }
   ],
   "source": [
    "df_heart.sex.value_counts()"
   ]
  },
  {
   "cell_type": "code",
   "execution_count": 10,
   "metadata": {},
   "outputs": [
    {
     "data": {
      "image/png": "[encoded data removed]",
      "text/plain": [
       "<Figure size 432x288 with 1 Axes>"
      ]
     },
     "metadata": {},
     "output_type": "display_data"
    }
   ],
   "source": [
    "# check gender distribution in the dataset\n",
    "gender_dist = df_heart.groupby('sex')[['sex']].count()\n",
    "colors_list = ['blue', 'darksalmon']\n",
    "plt.pie(gender_dist['sex'], labels = ['Female','Male'], autopct = '%1.1f%%', colors = colors_list)\n",
    "plt.title(\"Gender distribution\",color = 'black', fontsize = '14')\n",
    "plt.show()"
   ]
  },
  {
   "cell_type": "code",
   "execution_count": 11,
   "metadata": {},
   "outputs": [
    {
     "data": {
      "image/png": "[encoded data removed]",
      "text/plain": [
       "<Figure size 432x288 with 1 Axes>"
      ]
     },
     "metadata": {
      "needs_background": "light"
     },
     "output_type": "display_data"
    }
   ],
   "source": [
    "#Getting an idea about the distribution of gender \n",
    "p = sns.countplot(data=df_heart, x = 'sex', palette='RdBu_r')"
   ]
  },
  {
   "cell_type": "code",
   "execution_count": 12,
   "metadata": {},
   "outputs": [
    {
     "data": {
      "image/png": "[encoded data removed]",
      "text/plain": [
       "<Figure size 720x1440 with 8 Axes>"
      ]
     },
     "metadata": {
      "needs_background": "light"
     },
     "output_type": "display_data"
    }
   ],
   "source": [
    "# checking effect of different attributes on target outcome\n",
    "\n",
    "df_ht = ['sex','cp','restecg','fbs','ca','slope','thal', 'target']\n",
    "\n",
    "fig, axs = plt.subplots(4, 2, figsize=(10,20))\n",
    "axs = axs.flatten()\n",
    "\n",
    "# iterate through each column of df_catd and plot\n",
    "for i, col_name in enumerate(df_ht):\n",
    "    sns.countplot(x=col_name, data=df_heart, ax=axs[i], hue =df_heart['target'], palette= 'RdBu_r')\n",
    "    plt.title(\"Bar chart of\")\n",
    "    axs[i].set_xlabel(f\"{col_name}\", weight = 'bold')\n",
    "    axs[i].set_ylabel('Count', weight='bold')"
   ]
  },
  {
   "cell_type": "code",
   "execution_count": 13,
   "metadata": {},
   "outputs": [
    {
     "data": {
      "text/plain": [
       "<matplotlib.axes._subplots.AxesSubplot at 0xe9f1310>"
      ]
     },
     "execution_count": 13,
     "metadata": {},
     "output_type": "execute_result"
    },
    {
     "data": {
      "image/png": "[encoded data removed]",
      "text/plain": [
       "<Figure size 864x864 with 2 Axes>"
      ]
     },
     "metadata": {
      "needs_background": "light"
     },
     "output_type": "display_data"
    }
   ],
   "source": [
    "#correlation map for features\n",
    "f,ax = plt.subplots(figsize=(12, 12))\n",
    "ax.set_title('Correlation map for variables')\n",
    "sns.heatmap(df_heart.corr(), annot=True, linewidths=.5, fmt= '.1f',ax=ax,cmap=\"coolwarm_r\")"
   ]
  },
  {
   "cell_type": "code",
   "execution_count": 14,
   "metadata": {},
   "outputs": [
    {
     "data": {
      "image/png": "[encoded data removed]",
      "text/plain": [
       "<Figure size 432x288 with 1 Axes>"
      ]
     },
     "metadata": {
      "needs_background": "light"
     },
     "output_type": "display_data"
    }
   ],
   "source": [
    "#Getting an idea about the distribution of gender with cholestrol \n",
    "p = sns.barplot(data=df_heart, x = 'sex',y='chol', palette='RdBu_r')"
   ]
  },
  {
   "cell_type": "code",
   "execution_count": 15,
   "metadata": {
    "scrolled": true
   },
   "outputs": [
    {
     "data": {
      "text/html": [
       "<div>\n",
       "<style scoped>\n",
       "    .dataframe tbody tr th:only-of-type {\n",
       "        vertical-align: middle;\n",
       "    }\n",
       "\n",
       "    .dataframe tbody tr th {\n",
       "        vertical-align: top;\n",
       "    }\n",
       "\n",
       "    .dataframe thead th {\n",
       "        text-align: right;\n",
       "    }\n",
       "</style>\n",
       "<table border=\"1\" class=\"dataframe\">\n",
       "  <thead>\n",
       "    <tr style=\"text-align: right;\">\n",
       "      <th></th>\n",
       "      <th></th>\n",
       "      <th></th>\n",
       "      <th>Total Count</th>\n",
       "    </tr>\n",
       "    <tr>\n",
       "      <th>Gender</th>\n",
       "      <th>Heart Disease 0/1</th>\n",
       "      <th>Chest Pain Type</th>\n",
       "      <th></th>\n",
       "    </tr>\n",
       "  </thead>\n",
       "  <tbody>\n",
       "    <tr>\n",
       "      <th rowspan=\"7\" valign=\"top\">0</th>\n",
       "      <th rowspan=\"3\" valign=\"top\">0</th>\n",
       "      <th>0</th>\n",
       "      <td>21</td>\n",
       "    </tr>\n",
       "    <tr>\n",
       "      <th>1</th>\n",
       "      <td>2</td>\n",
       "    </tr>\n",
       "    <tr>\n",
       "      <th>2</th>\n",
       "      <td>1</td>\n",
       "    </tr>\n",
       "    <tr>\n",
       "      <th rowspan=\"4\" valign=\"top\">1</th>\n",
       "      <th>0</th>\n",
       "      <td>18</td>\n",
       "    </tr>\n",
       "    <tr>\n",
       "      <th>1</th>\n",
       "      <td>16</td>\n",
       "    </tr>\n",
       "    <tr>\n",
       "      <th>2</th>\n",
       "      <td>34</td>\n",
       "    </tr>\n",
       "    <tr>\n",
       "      <th>3</th>\n",
       "      <td>4</td>\n",
       "    </tr>\n",
       "    <tr>\n",
       "      <th rowspan=\"8\" valign=\"top\">1</th>\n",
       "      <th rowspan=\"4\" valign=\"top\">0</th>\n",
       "      <th>0</th>\n",
       "      <td>83</td>\n",
       "    </tr>\n",
       "    <tr>\n",
       "      <th>1</th>\n",
       "      <td>7</td>\n",
       "    </tr>\n",
       "    <tr>\n",
       "      <th>2</th>\n",
       "      <td>17</td>\n",
       "    </tr>\n",
       "    <tr>\n",
       "      <th>3</th>\n",
       "      <td>7</td>\n",
       "    </tr>\n",
       "    <tr>\n",
       "      <th rowspan=\"4\" valign=\"top\">1</th>\n",
       "      <th>0</th>\n",
       "      <td>21</td>\n",
       "    </tr>\n",
       "    <tr>\n",
       "      <th>1</th>\n",
       "      <td>25</td>\n",
       "    </tr>\n",
       "    <tr>\n",
       "      <th>2</th>\n",
       "      <td>35</td>\n",
       "    </tr>\n",
       "    <tr>\n",
       "      <th>3</th>\n",
       "      <td>12</td>\n",
       "    </tr>\n",
       "  </tbody>\n",
       "</table>\n",
       "</div>"
      ],
      "text/plain": [
       "                                          Total Count\n",
       "Gender Heart Disease 0/1 Chest Pain Type             \n",
       "0      0                 0                         21\n",
       "                         1                          2\n",
       "                         2                          1\n",
       "       1                 0                         18\n",
       "                         1                         16\n",
       "                         2                         34\n",
       "                         3                          4\n",
       "1      0                 0                         83\n",
       "                         1                          7\n",
       "                         2                         17\n",
       "                         3                          7\n",
       "       1                 0                         21\n",
       "                         1                         25\n",
       "                         2                         35\n",
       "                         3                         12"
      ]
     },
     "execution_count": 15,
     "metadata": {},
     "output_type": "execute_result"
    }
   ],
   "source": [
    "cp_dist = pd.DataFrame(df_heart.groupby(by=['sex','target','cp'],axis=0)['age'].count())\n",
    "cp_dist.columns = ['Total Count']\n",
    "cp_dist.index.names = ['Gender','Heart Disease 0/1','Chest Pain Type']\n",
    "cp_dist"
   ]
  },
  {
   "cell_type": "code",
   "execution_count": 16,
   "metadata": {},
   "outputs": [
    {
     "data": {
      "image/png": "[encoded data removed]",
      "text/plain": [
       "<Figure size 432x288 with 1 Axes>"
      ]
     },
     "metadata": {},
     "output_type": "display_data"
    }
   ],
   "source": [
    "sns.set(style=\"whitegrid\")\n",
    "p = sns.countplot(data=df_heart, x = 'cp', hue='target', palette='RdBu_r')"
   ]
  },
  {
   "cell_type": "code",
   "execution_count": 17,
   "metadata": {
    "scrolled": true
   },
   "outputs": [
    {
     "data": {
      "text/plain": [
       "Text(0.5, 1.0, 'Resting Blood pressure value')"
      ]
     },
     "execution_count": 17,
     "metadata": {},
     "output_type": "execute_result"
    },
    {
     "data": {
      "image/png": "[encoded data removed]",
      "text/plain": [
       "<Figure size 288x288 with 1 Axes>"
      ]
     },
     "metadata": {},
     "output_type": "display_data"
    }
   ],
   "source": [
    "df_heart['trestbps'].plot(kind='hist',density=True,figsize=(4,4))\n",
    "df_heart['trestbps'].plot(kind='density')\n",
    "plt.xlabel('restbp')\n",
    "plt.ylabel('density value')\n",
    "plt.title('Resting Blood pressure value')"
   ]
  },
  {
   "cell_type": "code",
   "execution_count": 18,
   "metadata": {},
   "outputs": [
    {
     "data": {
      "text/plain": [
       "Text(0.5, 1.0, 'ca')"
      ]
     },
     "execution_count": 18,
     "metadata": {},
     "output_type": "execute_result"
    },
    {
     "data": {
      "image/png": "[encoded data removed]",
      "text/plain": [
       "<Figure size 288x288 with 1 Axes>"
      ]
     },
     "metadata": {},
     "output_type": "display_data"
    }
   ],
   "source": [
    "df_heart['ca'].plot(kind='hist',density=True,figsize=(4,4))\n",
    "df_heart['ca'].plot(kind='density')\n",
    "plt.xlabel('chol')\n",
    "plt.ylabel('density')\n",
    "plt.title('ca')"
   ]
  },
  {
   "cell_type": "code",
   "execution_count": 19,
   "metadata": {},
   "outputs": [
    {
     "name": "stdout",
     "output_type": "stream",
     "text": [
      "X_train: (242, 13)\n",
      "y_train: (242,)\n",
      "X_test: (61, 13)\n",
      "y_test: (61,)\n"
     ]
    }
   ],
   "source": [
    "#Defining X and y\n",
    "X = df_heart.drop(['target'], axis=1)\n",
    "y = df_heart['target']\n",
    "\n",
    "# creating dataset split for prediction\n",
    "from sklearn.model_selection import train_test_split\n",
    "X_train, X_test , y_train , y_test = train_test_split(X,y,test_size=0.2,random_state=42) # 80-20 split\n",
    "\n",
    "# Checking split \n",
    "print('X_train:', X_train.shape)\n",
    "print('y_train:', y_train.shape)\n",
    "print('X_test:', X_test.shape)\n",
    "print('y_test:', y_test.shape)"
   ]
  },
  {
   "cell_type": "code",
   "execution_count": 20,
   "metadata": {},
   "outputs": [
    {
     "name": "stdout",
     "output_type": "stream",
     "text": [
      "Random Forest Classifier Accuracy: 83.60655737704919 %\n",
      "Training time 3.431\n"
     ]
    },
    {
     "data": {
      "text/plain": [
       "<matplotlib.axes._subplots.AxesSubplot at 0xf858990>"
      ]
     },
     "execution_count": 20,
     "metadata": {},
     "output_type": "execute_result"
    },
    {
     "data": {
      "image/png": "[encoded data removed]",
      "text/plain": [
       "<Figure size 432x288 with 2 Axes>"
      ]
     },
     "metadata": {},
     "output_type": "display_data"
    }
   ],
   "source": [
    "# 1. Using Random Forest Classifier\n",
    "t0 = time()\n",
    "# Load random forest classifier \n",
    "from sklearn.ensemble import RandomForestClassifier\n",
    "\n",
    "# Create a random forest Classifier\n",
    "clf = RandomForestClassifier(n_jobs=2, random_state=0)\n",
    "\n",
    "# Train the Classifier/fitting the model\n",
    "clf.fit(X_train, y_train)\n",
    "\n",
    "# predict the response\n",
    "y_pred = clf.predict(X_test)\n",
    "acc_rf = round(clf.score(X_test,y_test) * 100, 2)\n",
    "rf_time=(round(time() - t0, 3))\n",
    "\n",
    "#Import scikit-learn metrics module for accuracy calculation\n",
    "from sklearn import metrics\n",
    "\n",
    "# evaluate accuracy\n",
    "print(\"Random Forest Classifier Accuracy:\",metrics.accuracy_score(y_test, y_pred)*100,\"%\")\n",
    "print('Training time', rf_time)\n",
    "\n",
    "#Print Confusion Matrix\n",
    "from sklearn.metrics import confusion_matrix\n",
    "\n",
    "cm = pd.DataFrame(confusion_matrix(y_test, y_pred))\n",
    "sns.heatmap(cm, annot=True,cmap=\"coolwarm_r\")"
   ]
  },
  {
   "cell_type": "code",
   "execution_count": 21,
   "metadata": {},
   "outputs": [
    {
     "name": "stdout",
     "output_type": "stream",
     "text": [
      "Gaussian Naïve Bayes Accuracy: 86.88524590163934 %\n",
      "Training time 0.13\n"
     ]
    },
    {
     "data": {
      "text/plain": [
       "<matplotlib.axes._subplots.AxesSubplot at 0xf916450>"
      ]
     },
     "execution_count": 21,
     "metadata": {},
     "output_type": "execute_result"
    },
    {
     "data": {
      "image/png": "[encoded data removed]",
      "text/plain": [
       "<Figure size 432x288 with 2 Axes>"
      ]
     },
     "metadata": {},
     "output_type": "display_data"
    }
   ],
   "source": [
    "#2. Gaussian Naive Bayes Classifier\n",
    "t0 = time()\n",
    "#Import Gaussian Naive Bayes model\n",
    "from sklearn.naive_bayes import GaussianNB\n",
    "\n",
    "#Create a Gaussian Classifier\n",
    "gnb = GaussianNB()\n",
    "\n",
    "# Train the Classifier/fitting the model\n",
    "gnb.fit(X_train, y_train)\n",
    "\n",
    "# predict the response\n",
    "y_pred = gnb.predict(X_test)\n",
    "acc_gnb = round(gnb.score(X_test,y_test) * 100, 2)\n",
    "gnb_time=(round(time() - t0, 3))\n",
    "\n",
    "#Import scikit-learn metrics module for accuracy calculation\n",
    "from sklearn import metrics\n",
    "\n",
    "# evaluate accuracy\n",
    "print(\"Gaussian Naïve Bayes Accuracy:\",metrics.accuracy_score(y_test, y_pred)*100,\"%\")\n",
    "print('Training time', gnb_time)\n",
    "cm = pd.DataFrame(confusion_matrix(y_test, y_pred))\n",
    "sns.heatmap(cm, annot=True,cmap=\"coolwarm_r\")"
   ]
  },
  {
   "cell_type": "code",
   "execution_count": 22,
   "metadata": {},
   "outputs": [
    {
     "name": "stdout",
     "output_type": "stream",
     "text": [
      "Decision Tree Accuracy: 83.60655737704919 %\n",
      "Training time 0.493\n"
     ]
    },
    {
     "data": {
      "text/plain": [
       "<matplotlib.axes._subplots.AxesSubplot at 0xfdbddf0>"
      ]
     },
     "execution_count": 22,
     "metadata": {},
     "output_type": "execute_result"
    },
    {
     "data": {
      "image/png": "[encoded data removed]",
      "text/plain": [
       "<Figure size 432x288 with 2 Axes>"
      ]
     },
     "metadata": {},
     "output_type": "display_data"
    }
   ],
   "source": [
    "#import Decision Tree Classifier\n",
    "from sklearn.tree import DecisionTreeClassifier\n",
    "from sklearn import tree\n",
    "\n",
    "# Create Decision Tree classifer object\n",
    "clf = DecisionTreeClassifier(max_depth=10)\n",
    "\n",
    "# Train the Classifier/fitting the model\n",
    "clf = clf.fit(X_train,y_train)\n",
    "\n",
    "# predict the response\n",
    "y_pred = clf.predict(X_test)\n",
    "acc_dt = round(clf.score(X_test,y_test) * 100, 2)\n",
    "dt_time=(round(time() - t0, 3))\n",
    "\n",
    "#Import scikit-learn metrics module for accuracy calculation\n",
    "from sklearn.metrics import accuracy_score \n",
    "\n",
    "# evaluate accuracy\n",
    "print (\"Decision Tree Accuracy:\", metrics.accuracy_score(y_test, y_pred)*100,\"%\")\n",
    "print('Training time', dt_time)\n",
    "\n",
    "cm = pd.DataFrame(confusion_matrix(y_test, y_pred))\n",
    "sns.heatmap(cm, annot=True,cmap=\"coolwarm_r\")"
   ]
  },
  {
   "cell_type": "code",
   "execution_count": 23,
   "metadata": {},
   "outputs": [
    {
     "name": "stdout",
     "output_type": "stream",
     "text": [
      "kNN Accuracy: 65.57377049180327 %\n",
      "Training time 0.915\n"
     ]
    },
    {
     "data": {
      "text/plain": [
       "<matplotlib.axes._subplots.AxesSubplot at 0xfe12c10>"
      ]
     },
     "execution_count": 23,
     "metadata": {},
     "output_type": "execute_result"
    },
    {
     "data": {
      "image/png": "[encoded data removed]",
      "text/plain": [
       "<Figure size 432x288 with 2 Axes>"
      ]
     },
     "metadata": {},
     "output_type": "display_data"
    }
   ],
   "source": [
    "#kNN\n",
    "import sys, os\n",
    "\n",
    "# Import kNN classifier\n",
    "from sklearn.neighbors import KNeighborsClassifier\n",
    "\n",
    "# instantiate learning model (k = 3)\n",
    "knn = KNeighborsClassifier(n_neighbors=3)\n",
    "\n",
    "# Train the Classifier/fitting the model\n",
    "knn.fit(X_train, y_train)\n",
    "\n",
    "# predict the response\n",
    "y_pred = knn.predict(X_test)\n",
    "acc_knn = round(knn.score(X_test,y_test) * 100, 2)\n",
    "knn_time=(round(time() - t0, 3))\n",
    "\n",
    "#Import scikit-learn metrics module for accuracy calculation\n",
    "from sklearn import metrics\n",
    "\n",
    "# evaluate accuracy\n",
    "print(\"kNN Accuracy:\",metrics.accuracy_score(y_test, y_pred)*100,\"%\")\n",
    "print('Training time', knn_time)\n",
    "\n",
    "cm = pd.DataFrame(confusion_matrix(y_test, y_pred))\n",
    "sns.heatmap(cm, annot=True,cmap=\"coolwarm_r\")"
   ]
  },
  {
   "cell_type": "code",
   "execution_count": 24,
   "metadata": {},
   "outputs": [
    {
     "name": "stdout",
     "output_type": "stream",
     "text": [
      "SVM Accuracy: 54.09836065573771 %\n",
      "Training time 3.533\n"
     ]
    },
    {
     "data": {
      "text/plain": [
       "<matplotlib.axes._subplots.AxesSubplot at 0xffc46f0>"
      ]
     },
     "execution_count": 24,
     "metadata": {},
     "output_type": "execute_result"
    },
    {
     "data": {
      "image/png": "[encoded data removed]",
      "text/plain": [
       "<Figure size 432x288 with 2 Axes>"
      ]
     },
     "metadata": {},
     "output_type": "display_data"
    }
   ],
   "source": [
    "#Support Vector Machines trial\n",
    "import sys, os\n",
    "\n",
    "#Import svm model\n",
    "from sklearn import svm\n",
    "from sklearn.svm import SVC\n",
    "\n",
    "#Create a svm Classifier\n",
    "clf = SVC(C=1, kernel='rbf')\n",
    "\n",
    "# Train the Classifier/fitting the model\n",
    "clf.fit(X_train, y_train)\n",
    "\n",
    "# predict the response\n",
    "y_pred = clf.predict(X_test)\n",
    "acc_svm = round(clf.score(X_test,y_test) * 100, 2)\n",
    "svm_time=(round(time() - t0, 3))\n",
    "# evaluate accuracy\n",
    "print(\"SVM Accuracy:\",metrics.accuracy_score(y_test, y_pred)*100,\"%\")\n",
    "print('Training time', svm_time)\n",
    "\n",
    "cm = pd.DataFrame(confusion_matrix(y_test, y_pred))\n",
    "sns.heatmap(cm, annot=True,cmap=\"coolwarm_r\")"
   ]
  },
  {
   "cell_type": "code",
   "execution_count": 25,
   "metadata": {},
   "outputs": [
    {
     "data": {
      "image/png": "[encoded data removed]",
      "text/plain": [
       "<Figure size 432x288 with 1 Axes>"
      ]
     },
     "metadata": {},
     "output_type": "display_data"
    }
   ],
   "source": [
    "# visualizing accuracies for all ML Algorithms using Matplotlib\n",
    "predictors_group = ('Random Forest', 'GaussianNB', 'DecisionTree','kNN','SVM')\n",
    "x_pos = np.arange(len(predictors_group))\n",
    "accuracies1 = [acc_rf, acc_gnb, acc_dt,acc_knn, acc_svm]\n",
    "    \n",
    "plt.bar(x_pos, accuracies1, align='center', alpha=0.5, color='blue')\n",
    "plt.xticks(x_pos, predictors_group, rotation='vertical')\n",
    "plt.ylabel('Accuracy (%)')\n",
    "plt.title('Classifier Accuracies')\n",
    "plt.show()"
   ]
  },
  {
   "cell_type": "code",
   "execution_count": 26,
   "metadata": {},
   "outputs": [
    {
     "name": "stdout",
     "output_type": "stream",
     "text": [
      "Decision Tree: 83.61 % with 0.493 s\n",
      "Random Forest: 83.61 % with 3.431 s\n",
      "GaussianNB: 86.89 % with 0.13 s\n"
     ]
    }
   ],
   "source": [
    "#printing top three accuracies with training time\n",
    "\n",
    "print('Decision Tree:', acc_dt,'%','with', dt_time,'s')\n",
    "print('Random Forest:', acc_rf,'%','with', rf_time,'s')\n",
    "print('GaussianNB:',acc_gnb,'%','with', gnb_time,'s')"
   ]
  },
  {
   "cell_type": "code",
   "execution_count": 27,
   "metadata": {},
   "outputs": [],
   "source": [
    "# importing the model for prediction\n",
    "\n",
    "from sklearn.tree import DecisionTreeClassifier\n",
    "from sklearn.ensemble import RandomForestClassifier\n",
    "from sklearn.naive_bayes import GaussianNB\n",
    "\n",
    "# creating list of tuple wth model and its name  \n",
    "models = []\n",
    "models.append(('DT',DecisionTreeClassifier()))\n",
    "models.append(('RF',RandomForestClassifier()))\n",
    "models.append(('GNB',GaussianNB()))"
   ]
  },
  {
   "cell_type": "code",
   "execution_count": 28,
   "metadata": {},
   "outputs": [
    {
     "name": "stdout",
     "output_type": "stream",
     "text": [
      "('DT', 71.49)\n",
      "('RF', 77.27)\n",
      "('GNB', 80.16)\n"
     ]
    }
   ],
   "source": [
    "# Import Cross Validation \n",
    "from sklearn.model_selection import cross_val_score\n",
    "\n",
    "from sklearn.model_selection import KFold\n",
    "kf = KFold(n_splits=3, random_state=42, shuffle=True)\n",
    "kf.get_n_splits(X)\n",
    "# print(kf)\n",
    "\n",
    "acc = []   # All Algorithm/model accuracies\n",
    "names = []    # All model name\n",
    "\n",
    "for name, model in models:\n",
    "    \n",
    "    acc_of_model = cross_val_score(model, X_train, y_train, cv=kf, scoring='accuracy') # kFolds =5 without shuffling\n",
    "    \n",
    "    acc.append(acc_of_model) # appending Accuray of different model to acc List\n",
    "    \n",
    "    names.append(name)# appending name of models\n",
    "    Acc =name,round(acc_of_model.mean()*100,2) # printing Output \n",
    "    print(Acc)"
   ]
  },
  {
   "cell_type": "code",
   "execution_count": 29,
   "metadata": {},
   "outputs": [
    {
     "data": {
      "image/png": "[encoded data removed]",
      "text/plain": [
       "<Figure size 720x576 with 1 Axes>"
      ]
     },
     "metadata": {},
     "output_type": "display_data"
    }
   ],
   "source": [
    "# Plotting all accuracies together for comparison\n",
    "# using the values for accuracies from previous steps\n",
    "# these accuracies might vary slightly with each run. Hence,these need to be updated here before plotting\n",
    "\n",
    "labels = ['Decision Tree', 'Random Forest','Gaussian NB']\n",
    "NoCV =[81.97, 83.61,86.89] # accuracy before Cross Validation\n",
    "CV=[70.25, 78.09, 80.16] # accuracy after Cross Validation \n",
    "\n",
    "x = np.arange(len(labels))  # the label locations\n",
    "width = 0.25  # the width of the bars\n",
    "\n",
    "f, ax = plt.subplots(figsize=(10,8)) \n",
    "p1 = ax.bar(x - width/2, CV, width, label='After Cross Validation', color='blue')\n",
    "p2 = ax.bar(x + width/2, NoCV, width, label='Before Cross Validation', color='darksalmon')\n",
    "\n",
    "# Add some text for labels and title \n",
    "ax.set_ylabel('Accuracies')\n",
    "ax.set_title('Accuracy comparison')\n",
    "ax.set_xticks(x)\n",
    "plt.xticks()\n",
    "ax.set_xticklabels(labels)\n",
    "ax.legend(loc='best')\n",
    "plt.show()"
   ]
  },
  {
   "cell_type": "code",
   "execution_count": 30,
   "metadata": {},
   "outputs": [],
   "source": [
    "#splitting dataframe to create a new dataframe & test algorithm for female group separately\n",
    "\n",
    "# on basis of column value for gender\n",
    "# using dataframe.groupby() function to create dataframe df_women\n",
    "df_women = df_heart[df_heart['sex'] == 0]"
   ]
  },
  {
   "cell_type": "code",
   "execution_count": 31,
   "metadata": {},
   "outputs": [
    {
     "name": "stdout",
     "output_type": "stream",
     "text": [
      "<class 'pandas.core.frame.DataFrame'>\n",
      "Int64Index: 96 entries, 2 to 302\n",
      "Data columns (total 14 columns):\n",
      "age         96 non-null int64\n",
      "sex         96 non-null int64\n",
      "cp          96 non-null int64\n",
      "trestbps    96 non-null int64\n",
      "chol        96 non-null int64\n",
      "fbs         96 non-null int64\n",
      "restecg     96 non-null int64\n",
      "thalach     96 non-null int64\n",
      "exang       96 non-null int64\n",
      "oldpeak     96 non-null float64\n",
      "slope       96 non-null int64\n",
      "ca          96 non-null int64\n",
      "thal        96 non-null int64\n",
      "target      96 non-null int64\n",
      "dtypes: float64(1), int64(13)\n",
      "memory usage: 11.2 KB\n"
     ]
    }
   ],
   "source": [
    "df_women.info()"
   ]
  },
  {
   "cell_type": "code",
   "execution_count": 32,
   "metadata": {},
   "outputs": [
    {
     "name": "stdout",
     "output_type": "stream",
     "text": [
      "     age  sex  cp  trestbps  chol  fbs  restecg  thalach  exang  oldpeak  \\\n",
      "2     41    0   1       130   204    0        0      172      0      1.4   \n",
      "4     57    0   0       120   354    0        1      163      1      0.6   \n",
      "6     56    0   1       140   294    0        0      153      0      1.3   \n",
      "11    48    0   2       130   275    0        1      139      0      0.2   \n",
      "14    58    0   3       150   283    1        0      162      0      1.0   \n",
      "15    50    0   2       120   219    0        1      158      0      1.6   \n",
      "16    58    0   2       120   340    0        1      172      0      0.0   \n",
      "17    66    0   3       150   226    0        1      114      0      2.6   \n",
      "19    69    0   3       140   239    0        1      151      0      1.8   \n",
      "25    71    0   1       160   302    0        1      162      0      0.4   \n",
      "28    65    0   2       140   417    1        0      157      0      0.8   \n",
      "30    41    0   1       105   198    0        1      168      0      0.0   \n",
      "35    46    0   2       142   177    0        0      160      1      1.4   \n",
      "36    54    0   2       135   304    1        1      170      0      0.0   \n",
      "38    65    0   2       155   269    0        1      148      0      0.8   \n",
      "39    65    0   2       160   360    0        0      151      0      0.8   \n",
      "40    51    0   2       140   308    0        0      142      0      1.5   \n",
      "43    53    0   0       130   264    0        0      143      0      0.4   \n",
      "48    53    0   2       128   216    0        0      115      0      0.0   \n",
      "49    53    0   0       138   234    0        0      160      0      0.0   \n",
      "50    51    0   2       130   256    0        0      149      0      0.5   \n",
      "53    44    0   2       108   141    0        1      175      0      0.6   \n",
      "54    63    0   2       135   252    0        0      172      0      0.0   \n",
      "59    57    0   0       128   303    0        0      159      0      0.0   \n",
      "60    71    0   2       110   265    1        0      130      0      0.0   \n",
      "65    35    0   0       138   183    0        1      182      0      1.4   \n",
      "67    45    0   1       130   234    0        0      175      0      0.6   \n",
      "69    62    0   0       124   209    0        1      163      0      0.0   \n",
      "74    43    0   2       122   213    0        1      165      0      0.2   \n",
      "75    55    0   1       135   250    0        0      161      0      1.4   \n",
      "..   ...  ...  ..       ...   ...  ...      ...      ...    ...      ...   \n",
      "147   60    0   3       150   240    0        1      171      0      0.9   \n",
      "151   71    0   0       112   149    0        1      125      0      1.6   \n",
      "153   66    0   2       146   278    0        0      152      0      0.0   \n",
      "154   39    0   2       138   220    0        1      152      0      0.0   \n",
      "155   58    0   0       130   197    0        1      131      0      0.6   \n",
      "161   55    0   1       132   342    0        1      166      0      1.2   \n",
      "167   62    0   0       140   268    0        0      160      0      3.6   \n",
      "181   65    0   0       150   225    0        0      114      0      1.0   \n",
      "182   61    0   0       130   330    0        0      169      0      0.0   \n",
      "190   51    0   0       130   305    0        1      142      1      1.2   \n",
      "204   62    0   0       160   164    0        0      145      0      6.2   \n",
      "207   60    0   0       150   258    0        0      157      0      2.6   \n",
      "213   61    0   0       145   307    0        0      146      1      1.0   \n",
      "215   43    0   0       132   341    1        0      136      1      3.0   \n",
      "216   62    0   2       130   263    0        1       97      0      1.2   \n",
      "220   63    0   0       150   407    0        0      154      0      4.0   \n",
      "223   56    0   0       200   288    1        0      133      1      4.0   \n",
      "241   59    0   0       174   249    0        1      143      1      0.0   \n",
      "246   56    0   0       134   409    0        0      150      1      1.9   \n",
      "252   62    0   0       138   294    1        1      106      0      1.9   \n",
      "258   62    0   0       150   244    0        1      154      1      1.4   \n",
      "260   66    0   0       178   228    1        1      165      1      1.0   \n",
      "263   63    0   0       108   269    0        1      169      1      1.8   \n",
      "266   55    0   0       180   327    0        2      117      1      3.4   \n",
      "278   58    0   1       136   319    1        0      152      0      0.0   \n",
      "289   55    0   0       128   205    0        2      130      1      2.0   \n",
      "292   58    0   0       170   225    1        0      146      1      2.8   \n",
      "296   63    0   0       124   197    0        1      136      1      0.0   \n",
      "298   57    0   0       140   241    0        1      123      1      0.2   \n",
      "302   57    0   1       130   236    0        0      174      0      0.0   \n",
      "\n",
      "     slope  ca  thal  target  \n",
      "2        2   0     2       1  \n",
      "4        2   0     2       1  \n",
      "6        1   0     2       1  \n",
      "11       2   0     2       1  \n",
      "14       2   0     2       1  \n",
      "15       1   0     2       1  \n",
      "16       2   0     2       1  \n",
      "17       0   0     2       1  \n",
      "19       2   2     2       1  \n",
      "25       2   2     2       1  \n",
      "28       2   1     2       1  \n",
      "30       2   1     2       1  \n",
      "35       0   0     2       1  \n",
      "36       2   0     2       1  \n",
      "38       2   0     2       1  \n",
      "39       2   0     2       1  \n",
      "40       2   1     2       1  \n",
      "43       1   0     2       1  \n",
      "48       2   0     0       1  \n",
      "49       2   0     2       1  \n",
      "50       2   0     2       1  \n",
      "53       1   0     2       1  \n",
      "54       2   0     2       1  \n",
      "59       2   1     2       1  \n",
      "60       2   1     2       1  \n",
      "65       2   0     2       1  \n",
      "67       1   0     2       1  \n",
      "69       2   0     2       1  \n",
      "74       1   0     2       1  \n",
      "75       1   0     2       1  \n",
      "..     ...  ..   ...     ...  \n",
      "147      2   0     2       1  \n",
      "151      1   0     2       1  \n",
      "153      1   1     2       1  \n",
      "154      1   0     2       1  \n",
      "155      1   0     2       1  \n",
      "161      2   0     2       1  \n",
      "167      0   2     2       0  \n",
      "181      1   3     3       0  \n",
      "182      2   0     2       0  \n",
      "190      1   0     3       0  \n",
      "204      0   3     3       0  \n",
      "207      1   2     3       0  \n",
      "213      1   0     3       0  \n",
      "215      1   0     3       0  \n",
      "216      1   1     3       0  \n",
      "220      1   3     3       0  \n",
      "223      0   2     3       0  \n",
      "241      1   0     2       0  \n",
      "246      1   2     3       0  \n",
      "252      1   3     2       0  \n",
      "258      1   0     2       0  \n",
      "260      1   2     3       0  \n",
      "263      1   2     2       0  \n",
      "266      1   0     2       0  \n",
      "278      2   2     2       0  \n",
      "289      1   1     3       0  \n",
      "292      1   2     1       0  \n",
      "296      1   0     2       0  \n",
      "298      1   0     3       0  \n",
      "302      1   1     2       0  \n",
      "\n",
      "[96 rows x 14 columns]\n"
     ]
    }
   ],
   "source": [
    "print (df_women)"
   ]
  },
  {
   "cell_type": "code",
   "execution_count": 33,
   "metadata": {},
   "outputs": [
    {
     "name": "stdout",
     "output_type": "stream",
     "text": [
      "df_women: (96, 14)\n"
     ]
    }
   ],
   "source": [
    "print('df_women:', df_women.shape)"
   ]
  },
  {
   "cell_type": "code",
   "execution_count": 34,
   "metadata": {},
   "outputs": [
    {
     "name": "stdout",
     "output_type": "stream",
     "text": [
      "Xw_train: (76, 13)\n",
      "yw_train: (76,)\n",
      "Xw_test: (20, 13)\n",
      "yw_test: (20,)\n"
     ]
    }
   ],
   "source": [
    "#Defining X and y\n",
    "Xw = df_women.drop(['target'], axis=1)\n",
    "yw = df_women['target']\n",
    "\n",
    "# creating dataset split for prediction\n",
    "from sklearn.model_selection import train_test_split\n",
    "Xw_train, Xw_test , yw_train , yw_test = train_test_split(Xw,yw,test_size=0.2,random_state=42) # 80-20 split\n",
    "\n",
    "# Checking split \n",
    "print('Xw_train:', Xw_train.shape)\n",
    "print('yw_train:', yw_train.shape)\n",
    "print('Xw_test:', Xw_test.shape)\n",
    "print('yw_test:', yw_test.shape)"
   ]
  },
  {
   "cell_type": "code",
   "execution_count": 35,
   "metadata": {},
   "outputs": [
    {
     "name": "stdout",
     "output_type": "stream",
     "text": [
      "Gaussian Naive Bayes Accuracy: 90.0 %\n",
      "Training time 0.008\n"
     ]
    },
    {
     "data": {
      "text/plain": [
       "<matplotlib.axes._subplots.AxesSubplot at 0x1000e130>"
      ]
     },
     "execution_count": 35,
     "metadata": {},
     "output_type": "execute_result"
    },
    {
     "data": {
      "image/png": "[encoded data removed]",
      "text/plain": [
       "<Figure size 432x288 with 2 Axes>"
      ]
     },
     "metadata": {},
     "output_type": "display_data"
    }
   ],
   "source": [
    "#Gaussian Naive Bayes Classifier\n",
    "t0 = time()\n",
    "#Import Gaussian Naive Bayes model\n",
    "from sklearn.naive_bayes import GaussianNB\n",
    "\n",
    "#Create a Gaussian Classifier\n",
    "gnb = GaussianNB()\n",
    "\n",
    "# Train the Classifier/fitting the model\n",
    "gnb.fit(Xw_train, yw_train)\n",
    "\n",
    "# predict the response\n",
    "yw_pred = gnb.predict(Xw_test)\n",
    "acc_gnb = round(gnb.score(Xw_test,yw_test) * 100, 2)\n",
    "gnb_time=(round(time() - t0, 3))\n",
    "\n",
    "#Import scikit-learn metrics module for accuracy calculation\n",
    "from sklearn import metrics\n",
    "\n",
    "# evaluate accuracy\n",
    "print(\"Gaussian Naive Bayes Accuracy:\",metrics.accuracy_score(yw_test, yw_pred)*100,\"%\")\n",
    "print('Training time', gnb_time)\n",
    "cm = pd.DataFrame(confusion_matrix(yw_test, yw_pred))\n",
    "sns.heatmap(cm, annot=True, cmap=\"coolwarm_r\")"
   ]
  }
 ],
 "metadata": {
  "kernelspec": {
   "display_name": "Python 3",
   "language": "python",
   "name": "python3"
  },
  "language_info": {
   "codemirror_mode": {
    "name": "ipython",
    "version": 3
   },
   "file_extension": ".py",
   "mimetype": "text/x-python",
   "name": "python",
   "nbconvert_exporter": "python",
   "pygments_lexer": "ipython3",
   "version": "3.7.1"
  }
 },
 "nbformat": 4,
 "nbformat_minor": 2
}
