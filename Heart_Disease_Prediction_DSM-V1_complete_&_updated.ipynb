{
 "cells": [
  {
   "attachments": {
    "c21b8c5a-6518-4b4d-a19b-ba6f77803212.jpg": {
     "image/jpeg": "[encoded data removed]"
    }
   },
   "cell_type": "markdown",
   "id": "international-edgar",
   "metadata": {
    "papermill": {
     "duration": 0.039094,
     "end_time": "2021-06-19T13:02:28.800840",
     "exception": false,
     "start_time": "2021-06-19T13:02:28.761746",
     "status": "completed"
    },
    "tags": []
   },
   "source": [
    "![Heart Disease Prediction(1).jpg](attachment:c21b8c5a-6518-4b4d-a19b-ba6f77803212.jpg)"
   ]
  },
  {
   "cell_type": "markdown",
   "id": "certified-gross",
   "metadata": {
    "papermill": {
     "duration": 0.035301,
     "end_time": "2021-06-19T13:02:28.872150",
     "exception": false,
     "start_time": "2021-06-19T13:02:28.836849",
     "status": "completed"
    },
    "tags": []
   },
   "source": [
    "<blockquote>This database contains 76 attributes, but all published experiments refer to using a subset of 14 of them. In particular, the Cleveland database is the only one that has been used by ML researchers to\n",
    "this date. The \"goal\" field refers to the presence of heart disease in the patient. It is integer valued from 0 (no presence) to 4. Experiments with the Cleveland database have concentrated on simply attempting to distinguish presence (values 1,2,3,4) from absence (value 0). </blockquote>"
   ]
  },
  {
   "cell_type": "markdown",
   "id": "further-chart",
   "metadata": {
    "papermill": {
     "duration": 0.03582,
     "end_time": "2021-06-19T13:02:28.948131",
     "exception": false,
     "start_time": "2021-06-19T13:02:28.912311",
     "status": "completed"
    },
    "tags": []
   },
   "source": [
    "### <h3 style=\"background-color:#cad2c5;color:#800f2f;text-align: center;padding-top: 5px;padding-bottom: 5px;border-radius: 15px 50px;\"><strong><centre>Importing Libraries & Packages 📚 </centre></strong></h3>"
   ]
  },
  {
   "cell_type": "code",
   "execution_count": 1,
   "id": "premium-tunisia",
   "metadata": {
    "execution": {
     "iopub.execute_input": "2021-06-19T13:02:29.027460Z",
     "iopub.status.busy": "2021-06-19T13:02:29.025564Z",
     "iopub.status.idle": "2021-06-19T13:02:30.000003Z",
     "shell.execute_reply": "2021-06-19T13:02:30.000617Z",
     "shell.execute_reply.started": "2021-06-19T13:01:48.095824Z"
    },
    "papermill": {
     "duration": 1.016046,
     "end_time": "2021-06-19T13:02:30.000942",
     "exception": false,
     "start_time": "2021-06-19T13:02:28.984896",
     "status": "completed"
    },
    "tags": []
   },
   "outputs": [],
   "source": [
    "import pandas as pd\n",
    "import numpy as np\n",
    "import matplotlib.pyplot as plt\n",
    "import seaborn as sns\n",
    "\n",
    "#import time for training details\n",
    "from time import time\n",
    "t0 = time()\n",
    "\n",
    "import warnings\n",
    "warnings.filterwarnings('ignore')"
   ]
  },
  {
   "cell_type": "markdown",
   "id": "extra-narrow",
   "metadata": {
    "papermill": {
     "duration": 0.035597,
     "end_time": "2021-06-19T13:02:30.072798",
     "exception": false,
     "start_time": "2021-06-19T13:02:30.037201",
     "status": "completed"
    },
    "tags": []
   },
   "source": [
    "### <h3 style=\"background-color:#cad2c5;color:#800f2f;text-align: center;padding-top: 5px;padding-bottom: 5px;border-radius: 15px 50px;\"><strong><centre>Importing & Reading the dataset 📝 </centre></strong></h3>"
   ]
  },
  {
   "cell_type": "code",
   "execution_count": 2,
   "id": "effective-purple",
   "metadata": {
    "execution": {
     "iopub.execute_input": "2021-06-19T13:02:30.149158Z",
     "iopub.status.busy": "2021-06-19T13:02:30.148189Z",
     "iopub.status.idle": "2021-06-19T13:02:30.168800Z",
     "shell.execute_reply": "2021-06-19T13:02:30.167466Z",
     "shell.execute_reply.started": "2021-06-19T13:01:48.485578Z"
    },
    "papermill": {
     "duration": 0.060522,
     "end_time": "2021-06-19T13:02:30.168962",
     "exception": false,
     "start_time": "2021-06-19T13:02:30.108440",
     "status": "completed"
    },
    "tags": []
   },
   "outputs": [],
   "source": [
    "df_heart= pd.read_csv(\"../input/heart-disease-uci/heart.csv\")"
   ]
  },
  {
   "cell_type": "code",
   "execution_count": 3,
   "id": "scientific-ethiopia",
   "metadata": {
    "execution": {
     "iopub.execute_input": "2021-06-19T13:02:30.244575Z",
     "iopub.status.busy": "2021-06-19T13:02:30.243908Z",
     "iopub.status.idle": "2021-06-19T13:02:30.249949Z",
     "shell.execute_reply": "2021-06-19T13:02:30.250543Z",
     "shell.execute_reply.started": "2021-06-19T13:01:48.497639Z"
    },
    "papermill": {
     "duration": 0.045503,
     "end_time": "2021-06-19T13:02:30.250719",
     "exception": false,
     "start_time": "2021-06-19T13:02:30.205216",
     "status": "completed"
    },
    "tags": []
   },
   "outputs": [
    {
     "name": "stdout",
     "output_type": "stream",
     "text": [
      "Total number of rows: 303\n",
      "Total number of columns: 14\n"
     ]
    }
   ],
   "source": [
    "df_heart_row_count, df_heart_column_count=df_heart.shape\n",
    "print('Total number of rows:', df_heart_row_count)\n",
    "print('Total number of columns:', df_heart_column_count)"
   ]
  },
  {
   "cell_type": "markdown",
   "id": "lightweight-district",
   "metadata": {
    "papermill": {
     "duration": 0.035867,
     "end_time": "2021-06-19T13:02:30.323008",
     "exception": false,
     "start_time": "2021-06-19T13:02:30.287141",
     "status": "completed"
    },
    "tags": []
   },
   "source": [
    "### <h3 style=\"background-color:#cad2c5;color:#800f2f;text-align: center;padding-top: 5px;padding-bottom: 5px;border-radius: 15px 50px;\"><strong><centre>What does this dataset contain? </centre></strong></h3>"
   ]
  },
  {
   "cell_type": "code",
   "execution_count": 4,
   "id": "sustainable-italy",
   "metadata": {
    "execution": {
     "iopub.execute_input": "2021-06-19T13:02:30.409642Z",
     "iopub.status.busy": "2021-06-19T13:02:30.408980Z",
     "iopub.status.idle": "2021-06-19T13:02:30.426199Z",
     "shell.execute_reply": "2021-06-19T13:02:30.425628Z",
     "shell.execute_reply.started": "2021-06-19T13:01:48.504029Z"
    },
    "papermill": {
     "duration": 0.066878,
     "end_time": "2021-06-19T13:02:30.426352",
     "exception": false,
     "start_time": "2021-06-19T13:02:30.359474",
     "status": "completed"
    },
    "tags": []
   },
   "outputs": [
    {
     "name": "stdout",
     "output_type": "stream",
     "text": [
      "<class 'pandas.core.frame.DataFrame'>\n",
      "RangeIndex: 303 entries, 0 to 302\n",
      "Data columns (total 14 columns):\n",
      " #   Column    Non-Null Count  Dtype  \n",
      "---  ------    --------------  -----  \n",
      " 0   age       303 non-null    int64  \n",
      " 1   sex       303 non-null    int64  \n",
      " 2   cp        303 non-null    int64  \n",
      " 3   trestbps  303 non-null    int64  \n",
      " 4   chol      303 non-null    int64  \n",
      " 5   fbs       303 non-null    int64  \n",
      " 6   restecg   303 non-null    int64  \n",
      " 7   thalach   303 non-null    int64  \n",
      " 8   exang     303 non-null    int64  \n",
      " 9   oldpeak   303 non-null    float64\n",
      " 10  slope     303 non-null    int64  \n",
      " 11  ca        303 non-null    int64  \n",
      " 12  thal      303 non-null    int64  \n",
      " 13  target    303 non-null    int64  \n",
      "dtypes: float64(1), int64(13)\n",
      "memory usage: 33.3 KB\n"
     ]
    }
   ],
   "source": [
    "df_heart.info()"
   ]
  },
  {
   "cell_type": "code",
   "execution_count": 5,
   "id": "noble-bristol",
   "metadata": {
    "execution": {
     "iopub.execute_input": "2021-06-19T13:02:30.508697Z",
     "iopub.status.busy": "2021-06-19T13:02:30.508001Z",
     "iopub.status.idle": "2021-06-19T13:02:30.559261Z",
     "shell.execute_reply": "2021-06-19T13:02:30.559792Z",
     "shell.execute_reply.started": "2021-06-19T13:01:48.525069Z"
    },
    "papermill": {
     "duration": 0.09635,
     "end_time": "2021-06-19T13:02:30.559961",
     "exception": false,
     "start_time": "2021-06-19T13:02:30.463611",
     "status": "completed"
    },
    "tags": []
   },
   "outputs": [
    {
     "data": {
      "text/html": [
       "<div>\n",
       "<style scoped>\n",
       "    .dataframe tbody tr th:only-of-type {\n",
       "        vertical-align: middle;\n",
       "    }\n",
       "\n",
       "    .dataframe tbody tr th {\n",
       "        vertical-align: top;\n",
       "    }\n",
       "\n",
       "    .dataframe thead th {\n",
       "        text-align: right;\n",
       "    }\n",
       "</style>\n",
       "<table border=\"1\" class=\"dataframe\">\n",
       "  <thead>\n",
       "    <tr style=\"text-align: right;\">\n",
       "      <th></th>\n",
       "      <th>age</th>\n",
       "      <th>sex</th>\n",
       "      <th>cp</th>\n",
       "      <th>trestbps</th>\n",
       "      <th>chol</th>\n",
       "      <th>fbs</th>\n",
       "      <th>restecg</th>\n",
       "      <th>thalach</th>\n",
       "      <th>exang</th>\n",
       "      <th>oldpeak</th>\n",
       "      <th>slope</th>\n",
       "      <th>ca</th>\n",
       "      <th>thal</th>\n",
       "      <th>target</th>\n",
       "    </tr>\n",
       "  </thead>\n",
       "  <tbody>\n",
       "    <tr>\n",
       "      <th>count</th>\n",
       "      <td>303.000000</td>\n",
       "      <td>303.000000</td>\n",
       "      <td>303.000000</td>\n",
       "      <td>303.000000</td>\n",
       "      <td>303.000000</td>\n",
       "      <td>303.000000</td>\n",
       "      <td>303.000000</td>\n",
       "      <td>303.000000</td>\n",
       "      <td>303.000000</td>\n",
       "      <td>303.000000</td>\n",
       "      <td>303.000000</td>\n",
       "      <td>303.000000</td>\n",
       "      <td>303.000000</td>\n",
       "      <td>303.000000</td>\n",
       "    </tr>\n",
       "    <tr>\n",
       "      <th>mean</th>\n",
       "      <td>54.366337</td>\n",
       "      <td>0.683168</td>\n",
       "      <td>0.966997</td>\n",
       "      <td>131.623762</td>\n",
       "      <td>246.264026</td>\n",
       "      <td>0.148515</td>\n",
       "      <td>0.528053</td>\n",
       "      <td>149.646865</td>\n",
       "      <td>0.326733</td>\n",
       "      <td>1.039604</td>\n",
       "      <td>1.399340</td>\n",
       "      <td>0.729373</td>\n",
       "      <td>2.313531</td>\n",
       "      <td>0.544554</td>\n",
       "    </tr>\n",
       "    <tr>\n",
       "      <th>std</th>\n",
       "      <td>9.082101</td>\n",
       "      <td>0.466011</td>\n",
       "      <td>1.032052</td>\n",
       "      <td>17.538143</td>\n",
       "      <td>51.830751</td>\n",
       "      <td>0.356198</td>\n",
       "      <td>0.525860</td>\n",
       "      <td>22.905161</td>\n",
       "      <td>0.469794</td>\n",
       "      <td>1.161075</td>\n",
       "      <td>0.616226</td>\n",
       "      <td>1.022606</td>\n",
       "      <td>0.612277</td>\n",
       "      <td>0.498835</td>\n",
       "    </tr>\n",
       "    <tr>\n",
       "      <th>min</th>\n",
       "      <td>29.000000</td>\n",
       "      <td>0.000000</td>\n",
       "      <td>0.000000</td>\n",
       "      <td>94.000000</td>\n",
       "      <td>126.000000</td>\n",
       "      <td>0.000000</td>\n",
       "      <td>0.000000</td>\n",
       "      <td>71.000000</td>\n",
       "      <td>0.000000</td>\n",
       "      <td>0.000000</td>\n",
       "      <td>0.000000</td>\n",
       "      <td>0.000000</td>\n",
       "      <td>0.000000</td>\n",
       "      <td>0.000000</td>\n",
       "    </tr>\n",
       "    <tr>\n",
       "      <th>25%</th>\n",
       "      <td>47.500000</td>\n",
       "      <td>0.000000</td>\n",
       "      <td>0.000000</td>\n",
       "      <td>120.000000</td>\n",
       "      <td>211.000000</td>\n",
       "      <td>0.000000</td>\n",
       "      <td>0.000000</td>\n",
       "      <td>133.500000</td>\n",
       "      <td>0.000000</td>\n",
       "      <td>0.000000</td>\n",
       "      <td>1.000000</td>\n",
       "      <td>0.000000</td>\n",
       "      <td>2.000000</td>\n",
       "      <td>0.000000</td>\n",
       "    </tr>\n",
       "    <tr>\n",
       "      <th>50%</th>\n",
       "      <td>55.000000</td>\n",
       "      <td>1.000000</td>\n",
       "      <td>1.000000</td>\n",
       "      <td>130.000000</td>\n",
       "      <td>240.000000</td>\n",
       "      <td>0.000000</td>\n",
       "      <td>1.000000</td>\n",
       "      <td>153.000000</td>\n",
       "      <td>0.000000</td>\n",
       "      <td>0.800000</td>\n",
       "      <td>1.000000</td>\n",
       "      <td>0.000000</td>\n",
       "      <td>2.000000</td>\n",
       "      <td>1.000000</td>\n",
       "    </tr>\n",
       "    <tr>\n",
       "      <th>75%</th>\n",
       "      <td>61.000000</td>\n",
       "      <td>1.000000</td>\n",
       "      <td>2.000000</td>\n",
       "      <td>140.000000</td>\n",
       "      <td>274.500000</td>\n",
       "      <td>0.000000</td>\n",
       "      <td>1.000000</td>\n",
       "      <td>166.000000</td>\n",
       "      <td>1.000000</td>\n",
       "      <td>1.600000</td>\n",
       "      <td>2.000000</td>\n",
       "      <td>1.000000</td>\n",
       "      <td>3.000000</td>\n",
       "      <td>1.000000</td>\n",
       "    </tr>\n",
       "    <tr>\n",
       "      <th>max</th>\n",
       "      <td>77.000000</td>\n",
       "      <td>1.000000</td>\n",
       "      <td>3.000000</td>\n",
       "      <td>200.000000</td>\n",
       "      <td>564.000000</td>\n",
       "      <td>1.000000</td>\n",
       "      <td>2.000000</td>\n",
       "      <td>202.000000</td>\n",
       "      <td>1.000000</td>\n",
       "      <td>6.200000</td>\n",
       "      <td>2.000000</td>\n",
       "      <td>4.000000</td>\n",
       "      <td>3.000000</td>\n",
       "      <td>1.000000</td>\n",
       "    </tr>\n",
       "  </tbody>\n",
       "</table>\n",
       "</div>"
      ],
      "text/plain": [
       "              age         sex          cp    trestbps        chol         fbs  \\\n",
       "count  303.000000  303.000000  303.000000  303.000000  303.000000  303.000000   \n",
       "mean    54.366337    0.683168    0.966997  131.623762  246.264026    0.148515   \n",
       "std      9.082101    0.466011    1.032052   17.538143   51.830751    0.356198   \n",
       "min     29.000000    0.000000    0.000000   94.000000  126.000000    0.000000   \n",
       "25%     47.500000    0.000000    0.000000  120.000000  211.000000    0.000000   \n",
       "50%     55.000000    1.000000    1.000000  130.000000  240.000000    0.000000   \n",
       "75%     61.000000    1.000000    2.000000  140.000000  274.500000    0.000000   \n",
       "max     77.000000    1.000000    3.000000  200.000000  564.000000    1.000000   \n",
       "\n",
       "          restecg     thalach       exang     oldpeak       slope          ca  \\\n",
       "count  303.000000  303.000000  303.000000  303.000000  303.000000  303.000000   \n",
       "mean     0.528053  149.646865    0.326733    1.039604    1.399340    0.729373   \n",
       "std      0.525860   22.905161    0.469794    1.161075    0.616226    1.022606   \n",
       "min      0.000000   71.000000    0.000000    0.000000    0.000000    0.000000   \n",
       "25%      0.000000  133.500000    0.000000    0.000000    1.000000    0.000000   \n",
       "50%      1.000000  153.000000    0.000000    0.800000    1.000000    0.000000   \n",
       "75%      1.000000  166.000000    1.000000    1.600000    2.000000    1.000000   \n",
       "max      2.000000  202.000000    1.000000    6.200000    2.000000    4.000000   \n",
       "\n",
       "             thal      target  \n",
       "count  303.000000  303.000000  \n",
       "mean     2.313531    0.544554  \n",
       "std      0.612277    0.498835  \n",
       "min      0.000000    0.000000  \n",
       "25%      2.000000    0.000000  \n",
       "50%      2.000000    1.000000  \n",
       "75%      3.000000    1.000000  \n",
       "max      3.000000    1.000000  "
      ]
     },
     "execution_count": 5,
     "metadata": {},
     "output_type": "execute_result"
    }
   ],
   "source": [
    "df_heart.describe()"
   ]
  },
  {
   "cell_type": "markdown",
   "id": "alone-purchase",
   "metadata": {
    "papermill": {
     "duration": 0.037563,
     "end_time": "2021-06-19T13:02:30.635209",
     "exception": false,
     "start_time": "2021-06-19T13:02:30.597646",
     "status": "completed"
    },
    "tags": []
   },
   "source": [
    "### <h3 style=\"background-color:#cad2c5;color:#800f2f;text-align: center;padding-top: 5px;padding-bottom: 5px;border-radius: 15px 50px;\"><strong><centre>Checking for missing values ✏️ </centre></strong></h3>"
   ]
  },
  {
   "cell_type": "code",
   "execution_count": 6,
   "id": "mounted-button",
   "metadata": {
    "execution": {
     "iopub.execute_input": "2021-06-19T13:02:30.718728Z",
     "iopub.status.busy": "2021-06-19T13:02:30.717905Z",
     "iopub.status.idle": "2021-06-19T13:02:30.721793Z",
     "shell.execute_reply": "2021-06-19T13:02:30.721227Z",
     "shell.execute_reply.started": "2021-06-19T13:01:48.588811Z"
    },
    "papermill": {
     "duration": 0.049255,
     "end_time": "2021-06-19T13:02:30.721947",
     "exception": false,
     "start_time": "2021-06-19T13:02:30.672692",
     "status": "completed"
    },
    "tags": []
   },
   "outputs": [
    {
     "data": {
      "text/plain": [
       "age         0\n",
       "sex         0\n",
       "cp          0\n",
       "trestbps    0\n",
       "chol        0\n",
       "fbs         0\n",
       "restecg     0\n",
       "thalach     0\n",
       "exang       0\n",
       "oldpeak     0\n",
       "slope       0\n",
       "ca          0\n",
       "thal        0\n",
       "target      0\n",
       "dtype: int64"
      ]
     },
     "execution_count": 6,
     "metadata": {},
     "output_type": "execute_result"
    }
   ],
   "source": [
    "df_heart.isna().sum()"
   ]
  },
  {
   "cell_type": "code",
   "execution_count": 7,
   "id": "amino-deficit",
   "metadata": {
    "execution": {
     "iopub.execute_input": "2021-06-19T13:02:30.801887Z",
     "iopub.status.busy": "2021-06-19T13:02:30.801202Z",
     "iopub.status.idle": "2021-06-19T13:02:30.815613Z",
     "shell.execute_reply": "2021-06-19T13:02:30.816130Z",
     "shell.execute_reply.started": "2021-06-19T13:01:48.599965Z"
    },
    "papermill": {
     "duration": 0.055361,
     "end_time": "2021-06-19T13:02:30.816324",
     "exception": false,
     "start_time": "2021-06-19T13:02:30.760963",
     "status": "completed"
    },
    "tags": []
   },
   "outputs": [
    {
     "data": {
      "text/html": [
       "<div>\n",
       "<style scoped>\n",
       "    .dataframe tbody tr th:only-of-type {\n",
       "        vertical-align: middle;\n",
       "    }\n",
       "\n",
       "    .dataframe tbody tr th {\n",
       "        vertical-align: top;\n",
       "    }\n",
       "\n",
       "    .dataframe thead th {\n",
       "        text-align: right;\n",
       "    }\n",
       "</style>\n",
       "<table border=\"1\" class=\"dataframe\">\n",
       "  <thead>\n",
       "    <tr style=\"text-align: right;\">\n",
       "      <th></th>\n",
       "      <th>age</th>\n",
       "      <th>sex</th>\n",
       "      <th>cp</th>\n",
       "      <th>trestbps</th>\n",
       "      <th>chol</th>\n",
       "      <th>fbs</th>\n",
       "      <th>restecg</th>\n",
       "      <th>thalach</th>\n",
       "      <th>exang</th>\n",
       "      <th>oldpeak</th>\n",
       "      <th>slope</th>\n",
       "      <th>ca</th>\n",
       "      <th>thal</th>\n",
       "      <th>target</th>\n",
       "    </tr>\n",
       "  </thead>\n",
       "  <tbody>\n",
       "    <tr>\n",
       "      <th>0</th>\n",
       "      <td>63</td>\n",
       "      <td>1</td>\n",
       "      <td>3</td>\n",
       "      <td>145</td>\n",
       "      <td>233</td>\n",
       "      <td>1</td>\n",
       "      <td>0</td>\n",
       "      <td>150</td>\n",
       "      <td>0</td>\n",
       "      <td>2.3</td>\n",
       "      <td>0</td>\n",
       "      <td>0</td>\n",
       "      <td>1</td>\n",
       "      <td>1</td>\n",
       "    </tr>\n",
       "    <tr>\n",
       "      <th>1</th>\n",
       "      <td>37</td>\n",
       "      <td>1</td>\n",
       "      <td>2</td>\n",
       "      <td>130</td>\n",
       "      <td>250</td>\n",
       "      <td>0</td>\n",
       "      <td>1</td>\n",
       "      <td>187</td>\n",
       "      <td>0</td>\n",
       "      <td>3.5</td>\n",
       "      <td>0</td>\n",
       "      <td>0</td>\n",
       "      <td>2</td>\n",
       "      <td>1</td>\n",
       "    </tr>\n",
       "    <tr>\n",
       "      <th>2</th>\n",
       "      <td>41</td>\n",
       "      <td>0</td>\n",
       "      <td>1</td>\n",
       "      <td>130</td>\n",
       "      <td>204</td>\n",
       "      <td>0</td>\n",
       "      <td>0</td>\n",
       "      <td>172</td>\n",
       "      <td>0</td>\n",
       "      <td>1.4</td>\n",
       "      <td>2</td>\n",
       "      <td>0</td>\n",
       "      <td>2</td>\n",
       "      <td>1</td>\n",
       "    </tr>\n",
       "    <tr>\n",
       "      <th>3</th>\n",
       "      <td>56</td>\n",
       "      <td>1</td>\n",
       "      <td>1</td>\n",
       "      <td>120</td>\n",
       "      <td>236</td>\n",
       "      <td>0</td>\n",
       "      <td>1</td>\n",
       "      <td>178</td>\n",
       "      <td>0</td>\n",
       "      <td>0.8</td>\n",
       "      <td>2</td>\n",
       "      <td>0</td>\n",
       "      <td>2</td>\n",
       "      <td>1</td>\n",
       "    </tr>\n",
       "    <tr>\n",
       "      <th>4</th>\n",
       "      <td>57</td>\n",
       "      <td>0</td>\n",
       "      <td>0</td>\n",
       "      <td>120</td>\n",
       "      <td>354</td>\n",
       "      <td>0</td>\n",
       "      <td>1</td>\n",
       "      <td>163</td>\n",
       "      <td>1</td>\n",
       "      <td>0.6</td>\n",
       "      <td>2</td>\n",
       "      <td>0</td>\n",
       "      <td>2</td>\n",
       "      <td>1</td>\n",
       "    </tr>\n",
       "  </tbody>\n",
       "</table>\n",
       "</div>"
      ],
      "text/plain": [
       "   age  sex  cp  trestbps  chol  fbs  restecg  thalach  exang  oldpeak  slope  \\\n",
       "0   63    1   3       145   233    1        0      150      0      2.3      0   \n",
       "1   37    1   2       130   250    0        1      187      0      3.5      0   \n",
       "2   41    0   1       130   204    0        0      172      0      1.4      2   \n",
       "3   56    1   1       120   236    0        1      178      0      0.8      2   \n",
       "4   57    0   0       120   354    0        1      163      1      0.6      2   \n",
       "\n",
       "   ca  thal  target  \n",
       "0   0     1       1  \n",
       "1   0     2       1  \n",
       "2   0     2       1  \n",
       "3   0     2       1  \n",
       "4   0     2       1  "
      ]
     },
     "execution_count": 7,
     "metadata": {},
     "output_type": "execute_result"
    }
   ],
   "source": [
    "df_heart.head().iloc[:5]"
   ]
  },
  {
   "cell_type": "code",
   "execution_count": 8,
   "id": "adopted-hormone",
   "metadata": {
    "execution": {
     "iopub.execute_input": "2021-06-19T13:02:30.896307Z",
     "iopub.status.busy": "2021-06-19T13:02:30.895653Z",
     "iopub.status.idle": "2021-06-19T13:02:30.910980Z",
     "shell.execute_reply": "2021-06-19T13:02:30.911491Z",
     "shell.execute_reply.started": "2021-06-19T13:01:48.617668Z"
    },
    "papermill": {
     "duration": 0.056561,
     "end_time": "2021-06-19T13:02:30.911679",
     "exception": false,
     "start_time": "2021-06-19T13:02:30.855118",
     "status": "completed"
    },
    "tags": []
   },
   "outputs": [
    {
     "name": "stdout",
     "output_type": "stream",
     "text": [
      "Unique values are:\n",
      " age          41\n",
      "sex           2\n",
      "cp            4\n",
      "trestbps     49\n",
      "chol        152\n",
      "fbs           2\n",
      "restecg       3\n",
      "thalach      91\n",
      "exang         2\n",
      "oldpeak      40\n",
      "slope         3\n",
      "ca            5\n",
      "thal          4\n",
      "target        2\n",
      "dtype: int64\n"
     ]
    }
   ],
   "source": [
    "print (\"Unique values are:\\n\",df_heart.nunique())"
   ]
  },
  {
   "cell_type": "code",
   "execution_count": 9,
   "id": "detected-habitat",
   "metadata": {
    "execution": {
     "iopub.execute_input": "2021-06-19T13:02:30.992688Z",
     "iopub.status.busy": "2021-06-19T13:02:30.992006Z",
     "iopub.status.idle": "2021-06-19T13:02:30.999601Z",
     "shell.execute_reply": "2021-06-19T13:02:30.999007Z",
     "shell.execute_reply.started": "2021-06-19T13:01:48.634289Z"
    },
    "papermill": {
     "duration": 0.04915,
     "end_time": "2021-06-19T13:02:30.999751",
     "exception": false,
     "start_time": "2021-06-19T13:02:30.950601",
     "status": "completed"
    },
    "tags": []
   },
   "outputs": [
    {
     "data": {
      "text/plain": [
       "1    165\n",
       "0    138\n",
       "Name: target, dtype: int64"
      ]
     },
     "execution_count": 9,
     "metadata": {},
     "output_type": "execute_result"
    }
   ],
   "source": [
    "df_heart.target.value_counts()"
   ]
  },
  {
   "cell_type": "code",
   "execution_count": 10,
   "id": "alert-event",
   "metadata": {
    "execution": {
     "iopub.execute_input": "2021-06-19T13:02:31.084184Z",
     "iopub.status.busy": "2021-06-19T13:02:31.083550Z",
     "iopub.status.idle": "2021-06-19T13:02:31.087437Z",
     "shell.execute_reply": "2021-06-19T13:02:31.086933Z",
     "shell.execute_reply.started": "2021-06-19T13:01:48.646005Z"
    },
    "papermill": {
     "duration": 0.048916,
     "end_time": "2021-06-19T13:02:31.087580",
     "exception": false,
     "start_time": "2021-06-19T13:02:31.038664",
     "status": "completed"
    },
    "tags": []
   },
   "outputs": [
    {
     "data": {
      "text/plain": [
       "1    207\n",
       "0     96\n",
       "Name: sex, dtype: int64"
      ]
     },
     "execution_count": 10,
     "metadata": {},
     "output_type": "execute_result"
    }
   ],
   "source": [
    "df_heart.sex.value_counts()"
   ]
  },
  {
   "cell_type": "code",
   "execution_count": 11,
   "id": "equivalent-prophet",
   "metadata": {
    "execution": {
     "iopub.execute_input": "2021-06-19T13:02:31.191530Z",
     "iopub.status.busy": "2021-06-19T13:02:31.190824Z",
     "iopub.status.idle": "2021-06-19T13:02:31.319857Z",
     "shell.execute_reply": "2021-06-19T13:02:31.319296Z",
     "shell.execute_reply.started": "2021-06-19T13:01:48.656494Z"
    },
    "papermill": {
     "duration": 0.193288,
     "end_time": "2021-06-19T13:02:31.320012",
     "exception": false,
     "start_time": "2021-06-19T13:02:31.126724",
     "status": "completed"
    },
    "tags": []
   },
   "outputs": [
    {
     "data": {
      "image/png": "[encoded data removed]",
      "text/plain": [
       "<Figure size 432x288 with 1 Axes>"
      ]
     },
     "metadata": {},
     "output_type": "display_data"
    }
   ],
   "source": [
    "# check gender distribution in the dataset\n",
    "gender_dist = df_heart.groupby('sex')[['sex']].count()\n",
    "colors_list = ['blue', 'darksalmon']\n",
    "plt.pie(gender_dist['sex'], labels = ['Female','Male'], autopct = '%1.1f%%', colors=['#ffadad','#89c2d9'],shadow=True, startangle=90,explode=[0.1, 0.005])\n",
    "plt.title(\"Gender distribution\",color = 'black', fontsize = '14')\n",
    "plt.show()"
   ]
  },
  {
   "cell_type": "code",
   "execution_count": 12,
   "id": "secret-editing",
   "metadata": {
    "execution": {
     "iopub.execute_input": "2021-06-19T13:02:31.426295Z",
     "iopub.status.busy": "2021-06-19T13:02:31.425306Z",
     "iopub.status.idle": "2021-06-19T13:02:31.556687Z",
     "shell.execute_reply": "2021-06-19T13:02:31.556136Z",
     "shell.execute_reply.started": "2021-06-19T13:01:48.768417Z"
    },
    "papermill": {
     "duration": 0.196279,
     "end_time": "2021-06-19T13:02:31.556839",
     "exception": false,
     "start_time": "2021-06-19T13:02:31.360560",
     "status": "completed"
    },
    "tags": []
   },
   "outputs": [
    {
     "data": {
      "image/png": "[encoded data removed]",
      "text/plain": [
       "<Figure size 432x288 with 1 Axes>"
      ]
     },
     "metadata": {
      "needs_background": "light"
     },
     "output_type": "display_data"
    }
   ],
   "source": [
    "#Getting an idea about the distribution of gender \n",
    "p = sns.countplot(data=df_heart, x = 'sex', palette='RdBu_r')"
   ]
  },
  {
   "cell_type": "markdown",
   "id": "herbal-titanium",
   "metadata": {
    "papermill": {
     "duration": 0.039829,
     "end_time": "2021-06-19T13:02:31.637018",
     "exception": false,
     "start_time": "2021-06-19T13:02:31.597189",
     "status": "completed"
    },
    "tags": []
   },
   "source": [
    "### <h3 style=\"background-color:#cad2c5;color:#800f2f;text-align: center;padding-top: 5px;padding-bottom: 5px;border-radius: 15px 50px;\"><strong><centre>Effect of different attributes on target outcome✏️ </centre></strong></h3>"
   ]
  },
  {
   "cell_type": "code",
   "execution_count": 13,
   "id": "given-turtle",
   "metadata": {
    "execution": {
     "iopub.execute_input": "2021-06-19T13:02:31.739618Z",
     "iopub.status.busy": "2021-06-19T13:02:31.738869Z",
     "iopub.status.idle": "2021-06-19T13:02:32.810077Z",
     "shell.execute_reply": "2021-06-19T13:02:32.809571Z",
     "shell.execute_reply.started": "2021-06-19T13:01:48.891960Z"
    },
    "papermill": {
     "duration": 1.132665,
     "end_time": "2021-06-19T13:02:32.810231",
     "exception": false,
     "start_time": "2021-06-19T13:02:31.677566",
     "status": "completed"
    },
    "tags": []
   },
   "outputs": [
    {
     "data": {
      "image/png": "[encoded data removed]",
      "text/plain": [
       "<Figure size 720x1440 with 8 Axes>"
      ]
     },
     "metadata": {
      "needs_background": "light"
     },
     "output_type": "display_data"
    }
   ],
   "source": [
    "df_ht = ['sex','cp','restecg','fbs','ca','slope','thal', 'target']\n",
    "\n",
    "fig, axs = plt.subplots(4, 2, figsize=(10,20))\n",
    "axs = axs.flatten()\n",
    "\n",
    "# iterate through each column of df_catd and plot\n",
    "for i, col_name in enumerate(df_ht):\n",
    "    sns.countplot(x=col_name, data=df_heart, ax=axs[i], hue =df_heart['target'], palette= 'RdBu_r')\n",
    "    plt.title(\"Bar chart of\")\n",
    "    axs[i].set_xlabel(f\"{col_name}\", weight = 'bold')\n",
    "    axs[i].set_ylabel('Count', weight='bold')"
   ]
  },
  {
   "cell_type": "markdown",
   "id": "charitable-imperial",
   "metadata": {
    "papermill": {
     "duration": 0.041867,
     "end_time": "2021-06-19T13:02:32.894725",
     "exception": false,
     "start_time": "2021-06-19T13:02:32.852858",
     "status": "completed"
    },
    "tags": []
   },
   "source": [
    "### <h3 style=\"background-color:#cad2c5;color:#800f2f;text-align: center;padding-top: 5px;padding-bottom: 5px;border-radius: 15px 50px;\"><strong><centre>Plotting correlation map for features </centre></strong></h3>"
   ]
  },
  {
   "cell_type": "code",
   "execution_count": 14,
   "id": "improving-booking",
   "metadata": {
    "execution": {
     "iopub.execute_input": "2021-06-19T13:02:33.007948Z",
     "iopub.status.busy": "2021-06-19T13:02:33.000271Z",
     "iopub.status.idle": "2021-06-19T13:02:34.024654Z",
     "shell.execute_reply": "2021-06-19T13:02:34.025188Z",
     "shell.execute_reply.started": "2021-06-19T13:01:49.934397Z"
    },
    "papermill": {
     "duration": 1.088576,
     "end_time": "2021-06-19T13:02:34.025397",
     "exception": false,
     "start_time": "2021-06-19T13:02:32.936821",
     "status": "completed"
    },
    "tags": []
   },
   "outputs": [
    {
     "data": {
      "text/plain": [
       "<AxesSubplot:title={'center':'Correlation map for variables'}>"
      ]
     },
     "execution_count": 14,
     "metadata": {},
     "output_type": "execute_result"
    },
    {
     "data": {
      "image/png": "[encoded data removed]",
      "text/plain": [
       "<Figure size 864x864 with 2 Axes>"
      ]
     },
     "metadata": {
      "needs_background": "light"
     },
     "output_type": "display_data"
    }
   ],
   "source": [
    "#correlation map for features\n",
    "f,ax = plt.subplots(figsize=(12, 12))\n",
    "ax.set_title('Correlation map for variables')\n",
    "sns.heatmap(df_heart.corr(), annot=True, linewidths=.5, fmt= '.1f',ax=ax,cmap=\"coolwarm_r\")"
   ]
  },
  {
   "cell_type": "markdown",
   "id": "certain-hometown",
   "metadata": {
    "papermill": {
     "duration": 0.047654,
     "end_time": "2021-06-19T13:02:34.119356",
     "exception": false,
     "start_time": "2021-06-19T13:02:34.071702",
     "status": "completed"
    },
    "tags": []
   },
   "source": [
    "### <h3 style=\"background-color:#cad2c5;color:#800f2f;text-align: center;padding-top: 5px;padding-bottom: 5px;border-radius: 15px 50px;\"><strong><centre>Plots to understand the distribution of the data 🔍</centre></strong></h3>"
   ]
  },
  {
   "cell_type": "code",
   "execution_count": 15,
   "id": "democratic-familiar",
   "metadata": {
    "execution": {
     "iopub.execute_input": "2021-06-19T13:02:34.213865Z",
     "iopub.status.busy": "2021-06-19T13:02:34.212849Z",
     "iopub.status.idle": "2021-06-19T13:02:34.383643Z",
     "shell.execute_reply": "2021-06-19T13:02:34.384086Z",
     "shell.execute_reply.started": "2021-06-19T13:01:50.925797Z"
    },
    "papermill": {
     "duration": 0.219575,
     "end_time": "2021-06-19T13:02:34.384273",
     "exception": false,
     "start_time": "2021-06-19T13:02:34.164698",
     "status": "completed"
    },
    "tags": []
   },
   "outputs": [
    {
     "data": {
      "image/png": "[encoded data removed]",
      "text/plain": [
       "<Figure size 432x288 with 1 Axes>"
      ]
     },
     "metadata": {
      "needs_background": "light"
     },
     "output_type": "display_data"
    }
   ],
   "source": [
    "#Getting an idea about the distribution of gender with cholestrol \n",
    "p = sns.barplot(data=df_heart, x = 'sex',y='chol', palette='RdBu_r')"
   ]
  },
  {
   "cell_type": "code",
   "execution_count": 16,
   "id": "plastic-speed",
   "metadata": {
    "execution": {
     "iopub.execute_input": "2021-06-19T13:02:34.481123Z",
     "iopub.status.busy": "2021-06-19T13:02:34.480078Z",
     "iopub.status.idle": "2021-06-19T13:02:34.496662Z",
     "shell.execute_reply": "2021-06-19T13:02:34.497135Z",
     "shell.execute_reply.started": "2021-06-19T13:01:51.096130Z"
    },
    "papermill": {
     "duration": 0.066621,
     "end_time": "2021-06-19T13:02:34.497314",
     "exception": false,
     "start_time": "2021-06-19T13:02:34.430693",
     "status": "completed"
    },
    "scrolled": true,
    "tags": []
   },
   "outputs": [
    {
     "data": {
      "text/html": [
       "<div>\n",
       "<style scoped>\n",
       "    .dataframe tbody tr th:only-of-type {\n",
       "        vertical-align: middle;\n",
       "    }\n",
       "\n",
       "    .dataframe tbody tr th {\n",
       "        vertical-align: top;\n",
       "    }\n",
       "\n",
       "    .dataframe thead th {\n",
       "        text-align: right;\n",
       "    }\n",
       "</style>\n",
       "<table border=\"1\" class=\"dataframe\">\n",
       "  <thead>\n",
       "    <tr style=\"text-align: right;\">\n",
       "      <th></th>\n",
       "      <th></th>\n",
       "      <th></th>\n",
       "      <th>Total Count</th>\n",
       "    </tr>\n",
       "    <tr>\n",
       "      <th>Gender</th>\n",
       "      <th>Heart Disease 0/1</th>\n",
       "      <th>Chest Pain Type</th>\n",
       "      <th></th>\n",
       "    </tr>\n",
       "  </thead>\n",
       "  <tbody>\n",
       "    <tr>\n",
       "      <th rowspan=\"7\" valign=\"top\">0</th>\n",
       "      <th rowspan=\"3\" valign=\"top\">0</th>\n",
       "      <th>0</th>\n",
       "      <td>21</td>\n",
       "    </tr>\n",
       "    <tr>\n",
       "      <th>1</th>\n",
       "      <td>2</td>\n",
       "    </tr>\n",
       "    <tr>\n",
       "      <th>2</th>\n",
       "      <td>1</td>\n",
       "    </tr>\n",
       "    <tr>\n",
       "      <th rowspan=\"4\" valign=\"top\">1</th>\n",
       "      <th>0</th>\n",
       "      <td>18</td>\n",
       "    </tr>\n",
       "    <tr>\n",
       "      <th>1</th>\n",
       "      <td>16</td>\n",
       "    </tr>\n",
       "    <tr>\n",
       "      <th>2</th>\n",
       "      <td>34</td>\n",
       "    </tr>\n",
       "    <tr>\n",
       "      <th>3</th>\n",
       "      <td>4</td>\n",
       "    </tr>\n",
       "    <tr>\n",
       "      <th rowspan=\"8\" valign=\"top\">1</th>\n",
       "      <th rowspan=\"4\" valign=\"top\">0</th>\n",
       "      <th>0</th>\n",
       "      <td>83</td>\n",
       "    </tr>\n",
       "    <tr>\n",
       "      <th>1</th>\n",
       "      <td>7</td>\n",
       "    </tr>\n",
       "    <tr>\n",
       "      <th>2</th>\n",
       "      <td>17</td>\n",
       "    </tr>\n",
       "    <tr>\n",
       "      <th>3</th>\n",
       "      <td>7</td>\n",
       "    </tr>\n",
       "    <tr>\n",
       "      <th rowspan=\"4\" valign=\"top\">1</th>\n",
       "      <th>0</th>\n",
       "      <td>21</td>\n",
       "    </tr>\n",
       "    <tr>\n",
       "      <th>1</th>\n",
       "      <td>25</td>\n",
       "    </tr>\n",
       "    <tr>\n",
       "      <th>2</th>\n",
       "      <td>35</td>\n",
       "    </tr>\n",
       "    <tr>\n",
       "      <th>3</th>\n",
       "      <td>12</td>\n",
       "    </tr>\n",
       "  </tbody>\n",
       "</table>\n",
       "</div>"
      ],
      "text/plain": [
       "                                          Total Count\n",
       "Gender Heart Disease 0/1 Chest Pain Type             \n",
       "0      0                 0                         21\n",
       "                         1                          2\n",
       "                         2                          1\n",
       "       1                 0                         18\n",
       "                         1                         16\n",
       "                         2                         34\n",
       "                         3                          4\n",
       "1      0                 0                         83\n",
       "                         1                          7\n",
       "                         2                         17\n",
       "                         3                          7\n",
       "       1                 0                         21\n",
       "                         1                         25\n",
       "                         2                         35\n",
       "                         3                         12"
      ]
     },
     "execution_count": 16,
     "metadata": {},
     "output_type": "execute_result"
    }
   ],
   "source": [
    "cp_dist = pd.DataFrame(df_heart.groupby(by=['sex','target','cp'],axis=0)['age'].count())\n",
    "cp_dist.columns = ['Total Count']\n",
    "cp_dist.index.names = ['Gender','Heart Disease 0/1','Chest Pain Type']\n",
    "cp_dist"
   ]
  },
  {
   "cell_type": "code",
   "execution_count": 17,
   "id": "civilian-glory",
   "metadata": {
    "execution": {
     "iopub.execute_input": "2021-06-19T13:02:34.597168Z",
     "iopub.status.busy": "2021-06-19T13:02:34.596443Z",
     "iopub.status.idle": "2021-06-19T13:02:34.877363Z",
     "shell.execute_reply": "2021-06-19T13:02:34.877862Z",
     "shell.execute_reply.started": "2021-06-19T13:01:51.111237Z"
    },
    "papermill": {
     "duration": 0.334101,
     "end_time": "2021-06-19T13:02:34.878041",
     "exception": false,
     "start_time": "2021-06-19T13:02:34.543940",
     "status": "completed"
    },
    "tags": []
   },
   "outputs": [
    {
     "data": {
      "image/png": "[encoded data removed]",
      "text/plain": [
       "<Figure size 432x288 with 1 Axes>"
      ]
     },
     "metadata": {},
     "output_type": "display_data"
    }
   ],
   "source": [
    "sns.set(style=\"whitegrid\")\n",
    "p = sns.countplot(data=df_heart, x = 'cp', hue='target', palette='RdBu_r')"
   ]
  },
  {
   "cell_type": "markdown",
   "id": "proper-mining",
   "metadata": {
    "papermill": {
     "duration": 0.046624,
     "end_time": "2021-06-19T13:02:34.972171",
     "exception": false,
     "start_time": "2021-06-19T13:02:34.925547",
     "status": "completed"
    },
    "tags": []
   },
   "source": [
    "### <h3 style=\"background-color:#cad2c5;color:#800f2f;text-align: center;padding-top: 5px;padding-bottom: 5px;border-radius: 15px 50px;\"><strong><centre>More plots to understand the distribution of the data 🔍</centre></strong></h3>"
   ]
  },
  {
   "cell_type": "code",
   "execution_count": 18,
   "id": "similar-documentary",
   "metadata": {
    "execution": {
     "iopub.execute_input": "2021-06-19T13:02:35.074260Z",
     "iopub.status.busy": "2021-06-19T13:02:35.073494Z",
     "iopub.status.idle": "2021-06-19T13:02:35.317040Z",
     "shell.execute_reply": "2021-06-19T13:02:35.317500Z",
     "shell.execute_reply.started": "2021-06-19T13:01:51.384557Z"
    },
    "papermill": {
     "duration": 0.29786,
     "end_time": "2021-06-19T13:02:35.317677",
     "exception": false,
     "start_time": "2021-06-19T13:02:35.019817",
     "status": "completed"
    },
    "scrolled": true,
    "tags": []
   },
   "outputs": [
    {
     "data": {
      "text/plain": [
       "Text(0.5, 1.0, 'Resting Blood pressure value')"
      ]
     },
     "execution_count": 18,
     "metadata": {},
     "output_type": "execute_result"
    },
    {
     "data": {
      "image/png": "[encoded data removed]",
      "text/plain": [
       "<Figure size 288x288 with 1 Axes>"
      ]
     },
     "metadata": {},
     "output_type": "display_data"
    }
   ],
   "source": [
    "df_heart['trestbps'].plot(kind='hist',density=True,figsize=(4,4))\n",
    "df_heart['trestbps'].plot(kind='density')\n",
    "plt.xlabel('restbp')\n",
    "plt.ylabel('density value')\n",
    "plt.title('Resting Blood pressure value')"
   ]
  },
  {
   "cell_type": "code",
   "execution_count": 19,
   "id": "ultimate-project",
   "metadata": {
    "execution": {
     "iopub.execute_input": "2021-06-19T13:02:35.443827Z",
     "iopub.status.busy": "2021-06-19T13:02:35.436774Z",
     "iopub.status.idle": "2021-06-19T13:02:35.640775Z",
     "shell.execute_reply": "2021-06-19T13:02:35.639871Z",
     "shell.execute_reply.started": "2021-06-19T13:01:51.608949Z"
    },
    "papermill": {
     "duration": 0.275166,
     "end_time": "2021-06-19T13:02:35.640926",
     "exception": false,
     "start_time": "2021-06-19T13:02:35.365760",
     "status": "completed"
    },
    "tags": []
   },
   "outputs": [
    {
     "data": {
      "text/plain": [
       "Text(0.5, 1.0, 'ca')"
      ]
     },
     "execution_count": 19,
     "metadata": {},
     "output_type": "execute_result"
    },
    {
     "data": {
      "image/png": "[encoded data removed]",
      "text/plain": [
       "<Figure size 288x288 with 1 Axes>"
      ]
     },
     "metadata": {},
     "output_type": "display_data"
    }
   ],
   "source": [
    "df_heart['ca'].plot(kind='hist',density=True,figsize=(4,4))\n",
    "df_heart['ca'].plot(kind='density')\n",
    "plt.xlabel('chol')\n",
    "plt.ylabel('density')\n",
    "plt.title('ca')"
   ]
  },
  {
   "cell_type": "markdown",
   "id": "sonic-france",
   "metadata": {
    "papermill": {
     "duration": 0.048878,
     "end_time": "2021-06-19T13:02:35.739826",
     "exception": false,
     "start_time": "2021-06-19T13:02:35.690948",
     "status": "completed"
    },
    "tags": []
   },
   "source": [
    "### <h3 style=\"background-color:#cad2c5;color:#800f2f;text-align: center;padding-top: 5px;padding-bottom: 5px;border-radius: 15px 50px;\"><strong><centre>Dataset split for prediction ⏳ </centre></strong></h3>"
   ]
  },
  {
   "cell_type": "code",
   "execution_count": 20,
   "id": "capable-edwards",
   "metadata": {
    "execution": {
     "iopub.execute_input": "2021-06-19T13:02:35.847667Z",
     "iopub.status.busy": "2021-06-19T13:02:35.846827Z",
     "iopub.status.idle": "2021-06-19T13:02:36.095460Z",
     "shell.execute_reply": "2021-06-19T13:02:36.094822Z",
     "shell.execute_reply.started": "2021-06-19T13:01:51.822939Z"
    },
    "papermill": {
     "duration": 0.30548,
     "end_time": "2021-06-19T13:02:36.095601",
     "exception": false,
     "start_time": "2021-06-19T13:02:35.790121",
     "status": "completed"
    },
    "tags": []
   },
   "outputs": [
    {
     "name": "stdout",
     "output_type": "stream",
     "text": [
      "X_train: (242, 13)\n",
      "y_train: (242,)\n",
      "X_test: (61, 13)\n",
      "y_test: (61,)\n"
     ]
    }
   ],
   "source": [
    "#Defining X and y\n",
    "X = df_heart.drop(['target'], axis=1)\n",
    "y = df_heart['target']\n",
    "\n",
    "# creating dataset split for prediction\n",
    "from sklearn.model_selection import train_test_split\n",
    "X_train, X_test , y_train , y_test = train_test_split(X,y,test_size=0.2,random_state=42) # 80-20 split\n",
    "\n",
    "# Checking split \n",
    "print('X_train:', X_train.shape)\n",
    "print('y_train:', y_train.shape)\n",
    "print('X_test:', X_test.shape)\n",
    "print('y_test:', y_test.shape)"
   ]
  },
  {
   "cell_type": "markdown",
   "id": "supreme-scholarship",
   "metadata": {
    "papermill": {
     "duration": 0.048921,
     "end_time": "2021-06-19T13:02:36.193960",
     "exception": false,
     "start_time": "2021-06-19T13:02:36.145039",
     "status": "completed"
    },
    "tags": []
   },
   "source": [
    "### <h3 style=\"background-color:#cad2c5;color:#800f2f;text-align: center;padding-top: 5px;padding-bottom: 5px;border-radius: 15px 50px;\"><strong><centre>Applying machine learning algorithms</centre></strong></h3>"
   ]
  },
  {
   "cell_type": "code",
   "execution_count": 21,
   "id": "passing-dealer",
   "metadata": {
    "execution": {
     "iopub.execute_input": "2021-06-19T13:02:36.300494Z",
     "iopub.status.busy": "2021-06-19T13:02:36.299828Z",
     "iopub.status.idle": "2021-06-19T13:02:37.243709Z",
     "shell.execute_reply": "2021-06-19T13:02:37.243135Z",
     "shell.execute_reply.started": "2021-06-19T13:01:51.891504Z"
    },
    "papermill": {
     "duration": 1.000605,
     "end_time": "2021-06-19T13:02:37.243861",
     "exception": false,
     "start_time": "2021-06-19T13:02:36.243256",
     "status": "completed"
    },
    "tags": []
   },
   "outputs": [
    {
     "name": "stdout",
     "output_type": "stream",
     "text": [
      "Random Forest Classifier Accuracy: 85.24590163934425 %\n",
      "Training time 0.718\n"
     ]
    },
    {
     "data": {
      "text/plain": [
       "<AxesSubplot:>"
      ]
     },
     "execution_count": 21,
     "metadata": {},
     "output_type": "execute_result"
    },
    {
     "data": {
      "image/png": "[encoded data removed]",
      "text/plain": [
       "<Figure size 432x288 with 2 Axes>"
      ]
     },
     "metadata": {},
     "output_type": "display_data"
    }
   ],
   "source": [
    "# 1. Using Random Forest Classifier\n",
    "t0 = time()\n",
    "# Load random forest classifier \n",
    "from sklearn.ensemble import RandomForestClassifier\n",
    "\n",
    "# Create a random forest Classifier\n",
    "clf = RandomForestClassifier(n_jobs=2, random_state=0)\n",
    "\n",
    "# Train the Classifier/fitting the model\n",
    "clf.fit(X_train, y_train)\n",
    "\n",
    "# predict the response\n",
    "y_pred = clf.predict(X_test)\n",
    "acc_rf = round(clf.score(X_test,y_test) * 100, 2)\n",
    "rf_time=(round(time() - t0, 3))\n",
    "\n",
    "#Import scikit-learn metrics module for accuracy calculation\n",
    "from sklearn import metrics\n",
    "\n",
    "# evaluate accuracy\n",
    "print(\"Random Forest Classifier Accuracy:\",metrics.accuracy_score(y_test, y_pred)*100,\"%\")\n",
    "print('Training time', rf_time)\n",
    "\n",
    "#Print Confusion Matrix\n",
    "from sklearn.metrics import confusion_matrix\n",
    "\n",
    "cm = pd.DataFrame(confusion_matrix(y_test, y_pred))\n",
    "sns.heatmap(cm, annot=True,cmap=\"coolwarm_r\")"
   ]
  },
  {
   "cell_type": "code",
   "execution_count": 22,
   "id": "documentary-tennessee",
   "metadata": {
    "execution": {
     "iopub.execute_input": "2021-06-19T13:02:37.353404Z",
     "iopub.status.busy": "2021-06-19T13:02:37.352760Z",
     "iopub.status.idle": "2021-06-19T13:02:37.607913Z",
     "shell.execute_reply": "2021-06-19T13:02:37.606982Z",
     "shell.execute_reply.started": "2021-06-19T13:01:52.582973Z"
    },
    "papermill": {
     "duration": 0.313323,
     "end_time": "2021-06-19T13:02:37.608061",
     "exception": false,
     "start_time": "2021-06-19T13:02:37.294738",
     "status": "completed"
    },
    "tags": []
   },
   "outputs": [
    {
     "name": "stdout",
     "output_type": "stream",
     "text": [
      "Gaussian Naïve Bayes Accuracy: 86.88524590163934 %\n",
      "Training time 0.01\n"
     ]
    },
    {
     "data": {
      "text/plain": [
       "<AxesSubplot:>"
      ]
     },
     "execution_count": 22,
     "metadata": {},
     "output_type": "execute_result"
    },
    {
     "data": {
      "image/png": "[encoded data removed]",
      "text/plain": [
       "<Figure size 432x288 with 2 Axes>"
      ]
     },
     "metadata": {},
     "output_type": "display_data"
    }
   ],
   "source": [
    "#2. Gaussian Naive Bayes Classifier\n",
    "t0 = time()\n",
    "#Import Gaussian Naive Bayes model\n",
    "from sklearn.naive_bayes import GaussianNB\n",
    "\n",
    "#Create a Gaussian Classifier\n",
    "gnb = GaussianNB()\n",
    "\n",
    "# Train the Classifier/fitting the model\n",
    "gnb.fit(X_train, y_train)\n",
    "\n",
    "# predict the response\n",
    "y_pred = gnb.predict(X_test)\n",
    "acc_gnb = round(gnb.score(X_test,y_test) * 100, 2)\n",
    "gnb_time=(round(time() - t0, 3))\n",
    "\n",
    "#Import scikit-learn metrics module for accuracy calculation\n",
    "from sklearn import metrics\n",
    "\n",
    "# evaluate accuracy\n",
    "print(\"Gaussian Naïve Bayes Accuracy:\",metrics.accuracy_score(y_test, y_pred)*100,\"%\")\n",
    "print('Training time', gnb_time)\n",
    "cm = pd.DataFrame(confusion_matrix(y_test, y_pred))\n",
    "sns.heatmap(cm, annot=True,cmap=\"coolwarm_r\")"
   ]
  },
  {
   "cell_type": "code",
   "execution_count": 23,
   "id": "interested-fancy",
   "metadata": {
    "execution": {
     "iopub.execute_input": "2021-06-19T13:02:37.754747Z",
     "iopub.status.busy": "2021-06-19T13:02:37.744890Z",
     "iopub.status.idle": "2021-06-19T13:02:38.002665Z",
     "shell.execute_reply": "2021-06-19T13:02:38.001840Z",
     "shell.execute_reply.started": "2021-06-19T13:01:52.772264Z"
    },
    "papermill": {
     "duration": 0.342691,
     "end_time": "2021-06-19T13:02:38.002882",
     "exception": false,
     "start_time": "2021-06-19T13:02:37.660191",
     "status": "completed"
    },
    "tags": []
   },
   "outputs": [
    {
     "name": "stdout",
     "output_type": "stream",
     "text": [
      "Decision Tree Accuracy: 80.32786885245902 %\n",
      "Training time 0.379\n"
     ]
    },
    {
     "data": {
      "text/plain": [
       "<AxesSubplot:>"
      ]
     },
     "execution_count": 23,
     "metadata": {},
     "output_type": "execute_result"
    },
    {
     "data": {
      "image/png": "[encoded data removed]",
      "text/plain": [
       "<Figure size 432x288 with 2 Axes>"
      ]
     },
     "metadata": {},
     "output_type": "display_data"
    }
   ],
   "source": [
    "#import Decision Tree Classifier\n",
    "from sklearn.tree import DecisionTreeClassifier\n",
    "from sklearn import tree\n",
    "\n",
    "# Create Decision Tree classifer object\n",
    "clf = DecisionTreeClassifier(max_depth=10)\n",
    "\n",
    "# Train the Classifier/fitting the model\n",
    "clf = clf.fit(X_train,y_train)\n",
    "\n",
    "# predict the response\n",
    "y_pred = clf.predict(X_test)\n",
    "acc_dt = round(clf.score(X_test,y_test) * 100, 2)\n",
    "dt_time=(round(time() - t0, 3))\n",
    "\n",
    "#Import scikit-learn metrics module for accuracy calculation\n",
    "from sklearn.metrics import accuracy_score \n",
    "\n",
    "# evaluate accuracy\n",
    "print (\"Decision Tree Accuracy:\", metrics.accuracy_score(y_test, y_pred)*100,\"%\")\n",
    "print('Training time', dt_time)\n",
    "\n",
    "cm = pd.DataFrame(confusion_matrix(y_test, y_pred))\n",
    "sns.heatmap(cm, annot=True,cmap=\"coolwarm_r\")"
   ]
  },
  {
   "cell_type": "code",
   "execution_count": 24,
   "id": "valuable-fashion",
   "metadata": {
    "execution": {
     "iopub.execute_input": "2021-06-19T13:02:38.137744Z",
     "iopub.status.busy": "2021-06-19T13:02:38.136687Z",
     "iopub.status.idle": "2021-06-19T13:02:38.405718Z",
     "shell.execute_reply": "2021-06-19T13:02:38.405117Z",
     "shell.execute_reply.started": "2021-06-19T13:01:52.958768Z"
    },
    "papermill": {
     "duration": 0.338497,
     "end_time": "2021-06-19T13:02:38.405865",
     "exception": false,
     "start_time": "2021-06-19T13:02:38.067368",
     "status": "completed"
    },
    "tags": []
   },
   "outputs": [
    {
     "name": "stdout",
     "output_type": "stream",
     "text": [
      "kNN Accuracy: 65.57377049180327 %\n",
      "Training time 0.797\n"
     ]
    },
    {
     "data": {
      "text/plain": [
       "<AxesSubplot:>"
      ]
     },
     "execution_count": 24,
     "metadata": {},
     "output_type": "execute_result"
    },
    {
     "data": {
      "image/png": "[encoded data removed]",
      "text/plain": [
       "<Figure size 432x288 with 2 Axes>"
      ]
     },
     "metadata": {},
     "output_type": "display_data"
    }
   ],
   "source": [
    "#kNN\n",
    "import sys, os\n",
    "\n",
    "# Import kNN classifier\n",
    "from sklearn.neighbors import KNeighborsClassifier\n",
    "\n",
    "# instantiate learning model (k = 3)\n",
    "knn = KNeighborsClassifier(n_neighbors=3)\n",
    "\n",
    "# Train the Classifier/fitting the model\n",
    "knn.fit(X_train, y_train)\n",
    "\n",
    "# predict the response\n",
    "y_pred = knn.predict(X_test)\n",
    "acc_knn = round(knn.score(X_test,y_test) * 100, 2)\n",
    "knn_time=(round(time() - t0, 3))\n",
    "\n",
    "#Import scikit-learn metrics module for accuracy calculation\n",
    "from sklearn import metrics\n",
    "\n",
    "# evaluate accuracy\n",
    "print(\"kNN Accuracy:\",metrics.accuracy_score(y_test, y_pred)*100,\"%\")\n",
    "print('Training time', knn_time)\n",
    "\n",
    "cm = pd.DataFrame(confusion_matrix(y_test, y_pred))\n",
    "sns.heatmap(cm, annot=True,cmap=\"coolwarm_r\")"
   ]
  },
  {
   "cell_type": "code",
   "execution_count": 25,
   "id": "dedicated-kelly",
   "metadata": {
    "execution": {
     "iopub.execute_input": "2021-06-19T13:02:38.532799Z",
     "iopub.status.busy": "2021-06-19T13:02:38.532118Z",
     "iopub.status.idle": "2021-06-19T13:02:38.785204Z",
     "shell.execute_reply": "2021-06-19T13:02:38.785710Z",
     "shell.execute_reply.started": "2021-06-19T13:01:53.154035Z"
    },
    "papermill": {
     "duration": 0.322842,
     "end_time": "2021-06-19T13:02:38.785888",
     "exception": false,
     "start_time": "2021-06-19T13:02:38.463046",
     "status": "completed"
    },
    "tags": []
   },
   "outputs": [
    {
     "name": "stdout",
     "output_type": "stream",
     "text": [
      "SVM Accuracy: 70.49180327868852 %\n",
      "Training time 1.195\n"
     ]
    },
    {
     "data": {
      "text/plain": [
       "<AxesSubplot:>"
      ]
     },
     "execution_count": 25,
     "metadata": {},
     "output_type": "execute_result"
    },
    {
     "data": {
      "image/png": "[encoded data removed]",
      "text/plain": [
       "<Figure size 432x288 with 2 Axes>"
      ]
     },
     "metadata": {},
     "output_type": "display_data"
    }
   ],
   "source": [
    "#Support Vector Machines trial\n",
    "import sys, os\n",
    "\n",
    "#Import svm model\n",
    "from sklearn import svm\n",
    "from sklearn.svm import SVC\n",
    "\n",
    "#Create a svm Classifier\n",
    "clf = SVC(C=1, kernel='rbf')\n",
    "\n",
    "# Train the Classifier/fitting the model\n",
    "clf.fit(X_train, y_train)\n",
    "\n",
    "# predict the response\n",
    "y_pred = clf.predict(X_test)\n",
    "acc_svm = round(clf.score(X_test,y_test) * 100, 2)\n",
    "svm_time=(round(time() - t0, 3))\n",
    "# evaluate accuracy\n",
    "print(\"SVM Accuracy:\",metrics.accuracy_score(y_test, y_pred)*100,\"%\")\n",
    "print('Training time', svm_time)\n",
    "\n",
    "cm = pd.DataFrame(confusion_matrix(y_test, y_pred))\n",
    "sns.heatmap(cm, annot=True,cmap=\"coolwarm_r\")"
   ]
  },
  {
   "cell_type": "markdown",
   "id": "matched-supplement",
   "metadata": {
    "papermill": {
     "duration": 0.056194,
     "end_time": "2021-06-19T13:02:38.898607",
     "exception": false,
     "start_time": "2021-06-19T13:02:38.842413",
     "status": "completed"
    },
    "tags": []
   },
   "source": [
    "### <h3 style=\"background-color:#cad2c5;color:#800f2f;text-align: center;padding-top: 5px;padding-bottom: 5px;border-radius: 15px 50px;\"><strong><centre>Visualizing Accuracies for all ML Algorithms 📊 </centre></strong></h3>"
   ]
  },
  {
   "cell_type": "code",
   "execution_count": 26,
   "id": "electric-reviewer",
   "metadata": {
    "execution": {
     "iopub.execute_input": "2021-06-19T13:02:39.044863Z",
     "iopub.status.busy": "2021-06-19T13:02:39.042987Z",
     "iopub.status.idle": "2021-06-19T13:02:39.170909Z",
     "shell.execute_reply": "2021-06-19T13:02:39.170152Z",
     "shell.execute_reply.started": "2021-06-19T13:01:53.374078Z"
    },
    "papermill": {
     "duration": 0.215058,
     "end_time": "2021-06-19T13:02:39.171093",
     "exception": false,
     "start_time": "2021-06-19T13:02:38.956035",
     "status": "completed"
    },
    "tags": []
   },
   "outputs": [
    {
     "data": {
      "image/png": "[encoded data removed]",
      "text/plain": [
       "<Figure size 432x288 with 1 Axes>"
      ]
     },
     "metadata": {},
     "output_type": "display_data"
    }
   ],
   "source": [
    "# visualizing accuracies for all ML Algorithms using Matplotlib\n",
    "predictors_group = ('Random Forest', 'GaussianNB', 'DecisionTree','kNN','SVM')\n",
    "x_pos = np.arange(len(predictors_group))\n",
    "accuracies1 = [acc_rf, acc_gnb, acc_dt,acc_knn, acc_svm]\n",
    "    \n",
    "plt.bar(x_pos, accuracies1, align='center', alpha=0.5, color='blue')\n",
    "plt.grid(False)\n",
    "plt.xticks(x_pos, predictors_group, rotation='vertical')\n",
    "plt.ylabel('Accuracy (%)')\n",
    "plt.title('Classifier Accuracies')\n",
    "plt.show()"
   ]
  },
  {
   "cell_type": "code",
   "execution_count": 27,
   "id": "third-router",
   "metadata": {
    "execution": {
     "iopub.execute_input": "2021-06-19T13:02:39.295974Z",
     "iopub.status.busy": "2021-06-19T13:02:39.294848Z",
     "iopub.status.idle": "2021-06-19T13:02:39.299670Z",
     "shell.execute_reply": "2021-06-19T13:02:39.298664Z",
     "shell.execute_reply.started": "2021-06-19T13:01:53.517126Z"
    },
    "papermill": {
     "duration": 0.070289,
     "end_time": "2021-06-19T13:02:39.299876",
     "exception": false,
     "start_time": "2021-06-19T13:02:39.229587",
     "status": "completed"
    },
    "tags": []
   },
   "outputs": [
    {
     "name": "stdout",
     "output_type": "stream",
     "text": [
      "Decision Tree: 80.33 % with 0.379 s\n",
      "Random Forest: 85.25 % with 0.718 s\n",
      "GaussianNB: 86.89 % with 0.01 s\n"
     ]
    }
   ],
   "source": [
    "#printing top three accuracies with training time\n",
    "\n",
    "print('Decision Tree:', acc_dt,'%','with', dt_time,'s')\n",
    "print('Random Forest:', acc_rf,'%','with', rf_time,'s')\n",
    "print('GaussianNB:',acc_gnb,'%','with', gnb_time,'s')"
   ]
  },
  {
   "cell_type": "code",
   "execution_count": 28,
   "id": "divine-blackjack",
   "metadata": {
    "execution": {
     "iopub.execute_input": "2021-06-19T13:02:39.425097Z",
     "iopub.status.busy": "2021-06-19T13:02:39.424440Z",
     "iopub.status.idle": "2021-06-19T13:02:39.427725Z",
     "shell.execute_reply": "2021-06-19T13:02:39.427066Z",
     "shell.execute_reply.started": "2021-06-19T13:01:53.526324Z"
    },
    "papermill": {
     "duration": 0.069102,
     "end_time": "2021-06-19T13:02:39.427876",
     "exception": false,
     "start_time": "2021-06-19T13:02:39.358774",
     "status": "completed"
    },
    "tags": []
   },
   "outputs": [],
   "source": [
    "# importing the model for prediction\n",
    "\n",
    "from sklearn.tree import DecisionTreeClassifier\n",
    "from sklearn.ensemble import RandomForestClassifier\n",
    "from sklearn.naive_bayes import GaussianNB\n",
    "\n",
    "# creating list of tuple wth model and its name  \n",
    "models = []\n",
    "models.append(('DT',DecisionTreeClassifier()))\n",
    "models.append(('RF',RandomForestClassifier()))\n",
    "models.append(('GNB',GaussianNB()))"
   ]
  },
  {
   "cell_type": "markdown",
   "id": "intelligent-florist",
   "metadata": {
    "papermill": {
     "duration": 0.057687,
     "end_time": "2021-06-19T13:02:39.543796",
     "exception": false,
     "start_time": "2021-06-19T13:02:39.486109",
     "status": "completed"
    },
    "tags": []
   },
   "source": [
    "### <h3 style=\"background-color:#cad2c5;color:#800f2f;text-align: center;padding-top: 5px;padding-bottom: 5px;border-radius: 15px 50px;\"><strong><centre>Cross Validation </centre></strong></h3>"
   ]
  },
  {
   "cell_type": "code",
   "execution_count": 29,
   "id": "innocent-australian",
   "metadata": {
    "execution": {
     "iopub.execute_input": "2021-06-19T13:02:39.673134Z",
     "iopub.status.busy": "2021-06-19T13:02:39.672073Z",
     "iopub.status.idle": "2021-06-19T13:02:40.312296Z",
     "shell.execute_reply": "2021-06-19T13:02:40.311632Z",
     "shell.execute_reply.started": "2021-06-19T13:01:53.535326Z"
    },
    "papermill": {
     "duration": 0.710601,
     "end_time": "2021-06-19T13:02:40.312464",
     "exception": false,
     "start_time": "2021-06-19T13:02:39.601863",
     "status": "completed"
    },
    "tags": []
   },
   "outputs": [
    {
     "name": "stdout",
     "output_type": "stream",
     "text": [
      "('DT', 69.84)\n",
      "('RF', 80.16)\n",
      "('GNB', 80.16)\n"
     ]
    }
   ],
   "source": [
    "# Import Cross Validation \n",
    "from sklearn.model_selection import cross_val_score\n",
    "\n",
    "from sklearn.model_selection import KFold\n",
    "kf = KFold(n_splits=3, random_state=42, shuffle=True)\n",
    "kf.get_n_splits(X)\n",
    "# print(kf)\n",
    "\n",
    "acc = []   # All Algorithm/model accuracies\n",
    "names = []    # All model name\n",
    "\n",
    "for name, model in models:\n",
    "    \n",
    "    acc_of_model = cross_val_score(model, X_train, y_train, cv=kf, scoring='accuracy') # kFolds =5 without shuffling\n",
    "    \n",
    "    acc.append(acc_of_model) # appending Accuray of different model to acc List\n",
    "    \n",
    "    names.append(name)# appending name of models\n",
    "    Acc =name,round(acc_of_model.mean()*100,2) # printing Output \n",
    "    print(Acc)"
   ]
  },
  {
   "cell_type": "code",
   "execution_count": 30,
   "id": "northern-desktop",
   "metadata": {
    "execution": {
     "iopub.execute_input": "2021-06-19T13:02:40.465288Z",
     "iopub.status.busy": "2021-06-19T13:02:40.462879Z",
     "iopub.status.idle": "2021-06-19T13:02:40.613627Z",
     "shell.execute_reply": "2021-06-19T13:02:40.613064Z",
     "shell.execute_reply.started": "2021-06-19T13:01:54.149174Z"
    },
    "papermill": {
     "duration": 0.242181,
     "end_time": "2021-06-19T13:02:40.613781",
     "exception": false,
     "start_time": "2021-06-19T13:02:40.371600",
     "status": "completed"
    },
    "tags": []
   },
   "outputs": [
    {
     "data": {
      "image/png": "[encoded data removed]",
      "text/plain": [
       "<Figure size 720x576 with 1 Axes>"
      ]
     },
     "metadata": {},
     "output_type": "display_data"
    }
   ],
   "source": [
    "# Plotting all accuracies together for comparison\n",
    "# using the values for accuracies from previous steps\n",
    "# these accuracies might vary slightly with each run. Hence,these need to be updated here before plotting\n",
    "\n",
    "labels = ['Decision Tree', 'Random Forest','Gaussian NB']\n",
    "NoCV =[81.97, 83.61,86.89] # accuracy before Cross Validation\n",
    "CV=[70.25, 78.09, 80.16] # accuracy after Cross Validation \n",
    "\n",
    "x = np.arange(len(labels))  # the label locations\n",
    "width = 0.25  # the width of the bars\n",
    "\n",
    "f, ax = plt.subplots(figsize=(10,8)) \n",
    "p1 = ax.bar(x - width/2, CV, width, label='After Cross Validation', color='#89c2d9')\n",
    "p2 = ax.bar(x + width/2, NoCV, width, label='Before Cross Validation', color='#ffadad')\n",
    "\n",
    "# Add some text for labels and title \n",
    "ax.set_ylabel('Accuracies')\n",
    "ax.set_title('Accuracy comparison')\n",
    "ax.set_xticks(x)\n",
    "plt.xticks()\n",
    "ax.set_xticklabels(labels)\n",
    "ax.legend(loc='best')\n",
    "plt.show()"
   ]
  },
  {
   "cell_type": "code",
   "execution_count": 31,
   "id": "configured-child",
   "metadata": {
    "execution": {
     "iopub.execute_input": "2021-06-19T13:02:40.739350Z",
     "iopub.status.busy": "2021-06-19T13:02:40.738701Z",
     "iopub.status.idle": "2021-06-19T13:02:40.741852Z",
     "shell.execute_reply": "2021-06-19T13:02:40.741162Z",
     "shell.execute_reply.started": "2021-06-19T13:01:54.314726Z"
    },
    "papermill": {
     "duration": 0.067992,
     "end_time": "2021-06-19T13:02:40.741997",
     "exception": false,
     "start_time": "2021-06-19T13:02:40.674005",
     "status": "completed"
    },
    "tags": []
   },
   "outputs": [],
   "source": [
    "#splitting dataframe to create a new dataframe & test algorithm for female group separately\n",
    "\n",
    "# on basis of column value for gender\n",
    "# using dataframe.groupby() function to create dataframe df_women\n",
    "df_women = df_heart[df_heart['sex'] == 0]"
   ]
  },
  {
   "cell_type": "code",
   "execution_count": 32,
   "id": "attractive-tomorrow",
   "metadata": {
    "execution": {
     "iopub.execute_input": "2021-06-19T13:02:40.876494Z",
     "iopub.status.busy": "2021-06-19T13:02:40.875511Z",
     "iopub.status.idle": "2021-06-19T13:02:40.879747Z",
     "shell.execute_reply": "2021-06-19T13:02:40.879195Z",
     "shell.execute_reply.started": "2021-06-19T13:01:54.319999Z"
    },
    "papermill": {
     "duration": 0.077971,
     "end_time": "2021-06-19T13:02:40.879908",
     "exception": false,
     "start_time": "2021-06-19T13:02:40.801937",
     "status": "completed"
    },
    "tags": []
   },
   "outputs": [
    {
     "name": "stdout",
     "output_type": "stream",
     "text": [
      "<class 'pandas.core.frame.DataFrame'>\n",
      "Int64Index: 96 entries, 2 to 302\n",
      "Data columns (total 14 columns):\n",
      " #   Column    Non-Null Count  Dtype  \n",
      "---  ------    --------------  -----  \n",
      " 0   age       96 non-null     int64  \n",
      " 1   sex       96 non-null     int64  \n",
      " 2   cp        96 non-null     int64  \n",
      " 3   trestbps  96 non-null     int64  \n",
      " 4   chol      96 non-null     int64  \n",
      " 5   fbs       96 non-null     int64  \n",
      " 6   restecg   96 non-null     int64  \n",
      " 7   thalach   96 non-null     int64  \n",
      " 8   exang     96 non-null     int64  \n",
      " 9   oldpeak   96 non-null     float64\n",
      " 10  slope     96 non-null     int64  \n",
      " 11  ca        96 non-null     int64  \n",
      " 12  thal      96 non-null     int64  \n",
      " 13  target    96 non-null     int64  \n",
      "dtypes: float64(1), int64(13)\n",
      "memory usage: 11.2 KB\n"
     ]
    }
   ],
   "source": [
    "df_women.info()"
   ]
  },
  {
   "cell_type": "code",
   "execution_count": 33,
   "id": "endless-madness",
   "metadata": {
    "execution": {
     "iopub.execute_input": "2021-06-19T13:02:41.013007Z",
     "iopub.status.busy": "2021-06-19T13:02:41.012321Z",
     "iopub.status.idle": "2021-06-19T13:02:41.018156Z",
     "shell.execute_reply": "2021-06-19T13:02:41.017556Z",
     "shell.execute_reply.started": "2021-06-19T13:01:54.339555Z"
    },
    "papermill": {
     "duration": 0.077817,
     "end_time": "2021-06-19T13:02:41.018315",
     "exception": false,
     "start_time": "2021-06-19T13:02:40.940498",
     "status": "completed"
    },
    "tags": []
   },
   "outputs": [
    {
     "name": "stdout",
     "output_type": "stream",
     "text": [
      "     age  sex  cp  trestbps  chol  fbs  restecg  thalach  exang  oldpeak  \\\n",
      "2     41    0   1       130   204    0        0      172      0      1.4   \n",
      "4     57    0   0       120   354    0        1      163      1      0.6   \n",
      "6     56    0   1       140   294    0        0      153      0      1.3   \n",
      "11    48    0   2       130   275    0        1      139      0      0.2   \n",
      "14    58    0   3       150   283    1        0      162      0      1.0   \n",
      "..   ...  ...  ..       ...   ...  ...      ...      ...    ...      ...   \n",
      "289   55    0   0       128   205    0        2      130      1      2.0   \n",
      "292   58    0   0       170   225    1        0      146      1      2.8   \n",
      "296   63    0   0       124   197    0        1      136      1      0.0   \n",
      "298   57    0   0       140   241    0        1      123      1      0.2   \n",
      "302   57    0   1       130   236    0        0      174      0      0.0   \n",
      "\n",
      "     slope  ca  thal  target  \n",
      "2        2   0     2       1  \n",
      "4        2   0     2       1  \n",
      "6        1   0     2       1  \n",
      "11       2   0     2       1  \n",
      "14       2   0     2       1  \n",
      "..     ...  ..   ...     ...  \n",
      "289      1   1     3       0  \n",
      "292      1   2     1       0  \n",
      "296      1   0     2       0  \n",
      "298      1   0     3       0  \n",
      "302      1   1     2       0  \n",
      "\n",
      "[96 rows x 14 columns]\n"
     ]
    }
   ],
   "source": [
    "print (df_women)"
   ]
  },
  {
   "cell_type": "code",
   "execution_count": 34,
   "id": "arranged-memory",
   "metadata": {
    "execution": {
     "iopub.execute_input": "2021-06-19T13:02:41.146149Z",
     "iopub.status.busy": "2021-06-19T13:02:41.145403Z",
     "iopub.status.idle": "2021-06-19T13:02:41.148869Z",
     "shell.execute_reply": "2021-06-19T13:02:41.148352Z",
     "shell.execute_reply.started": "2021-06-19T13:01:54.351484Z"
    },
    "papermill": {
     "duration": 0.069263,
     "end_time": "2021-06-19T13:02:41.149000",
     "exception": false,
     "start_time": "2021-06-19T13:02:41.079737",
     "status": "completed"
    },
    "tags": []
   },
   "outputs": [
    {
     "name": "stdout",
     "output_type": "stream",
     "text": [
      "df_women: (96, 14)\n"
     ]
    }
   ],
   "source": [
    "print('df_women:', df_women.shape)"
   ]
  },
  {
   "cell_type": "code",
   "execution_count": 35,
   "id": "complete-stack",
   "metadata": {
    "execution": {
     "iopub.execute_input": "2021-06-19T13:02:41.274299Z",
     "iopub.status.busy": "2021-06-19T13:02:41.273683Z",
     "iopub.status.idle": "2021-06-19T13:02:41.284335Z",
     "shell.execute_reply": "2021-06-19T13:02:41.284835Z",
     "shell.execute_reply.started": "2021-06-19T13:01:54.362353Z"
    },
    "papermill": {
     "duration": 0.075107,
     "end_time": "2021-06-19T13:02:41.285005",
     "exception": false,
     "start_time": "2021-06-19T13:02:41.209898",
     "status": "completed"
    },
    "tags": []
   },
   "outputs": [
    {
     "name": "stdout",
     "output_type": "stream",
     "text": [
      "Xw_train: (76, 13)\n",
      "yw_train: (76,)\n",
      "Xw_test: (20, 13)\n",
      "yw_test: (20,)\n"
     ]
    }
   ],
   "source": [
    "#Defining X and y\n",
    "Xw = df_women.drop(['target'], axis=1)\n",
    "yw = df_women['target']\n",
    "\n",
    "# creating dataset split for prediction\n",
    "from sklearn.model_selection import train_test_split\n",
    "Xw_train, Xw_test , yw_train , yw_test = train_test_split(Xw,yw,test_size=0.2,random_state=42) # 80-20 split\n",
    "\n",
    "# Checking split \n",
    "print('Xw_train:', Xw_train.shape)\n",
    "print('yw_train:', yw_train.shape)\n",
    "print('Xw_test:', Xw_test.shape)\n",
    "print('yw_test:', yw_test.shape)"
   ]
  },
  {
   "cell_type": "code",
   "execution_count": 36,
   "id": "wrapped-education",
   "metadata": {
    "execution": {
     "iopub.execute_input": "2021-06-19T13:02:41.424874Z",
     "iopub.status.busy": "2021-06-19T13:02:41.418805Z",
     "iopub.status.idle": "2021-06-19T13:02:41.669538Z",
     "shell.execute_reply": "2021-06-19T13:02:41.668682Z",
     "shell.execute_reply.started": "2021-06-19T13:01:54.374944Z"
    },
    "papermill": {
     "duration": 0.323616,
     "end_time": "2021-06-19T13:02:41.669710",
     "exception": false,
     "start_time": "2021-06-19T13:02:41.346094",
     "status": "completed"
    },
    "tags": []
   },
   "outputs": [
    {
     "name": "stdout",
     "output_type": "stream",
     "text": [
      "Gaussian Naive Bayes Accuracy: 90.0 %\n",
      "Training time 0.009\n"
     ]
    },
    {
     "data": {
      "text/plain": [
       "<AxesSubplot:>"
      ]
     },
     "execution_count": 36,
     "metadata": {},
     "output_type": "execute_result"
    },
    {
     "data": {
      "image/png": "[encoded data removed]",
      "text/plain": [
       "<Figure size 432x288 with 2 Axes>"
      ]
     },
     "metadata": {},
     "output_type": "display_data"
    }
   ],
   "source": [
    "#Gaussian Naive Bayes Classifier\n",
    "t0 = time()\n",
    "#Import Gaussian Naive Bayes model\n",
    "from sklearn.naive_bayes import GaussianNB\n",
    "\n",
    "#Create a Gaussian Classifier\n",
    "gnb = GaussianNB()\n",
    "\n",
    "# Train the Classifier/fitting the model\n",
    "gnb.fit(Xw_train, yw_train)\n",
    "\n",
    "# predict the response\n",
    "yw_pred = gnb.predict(Xw_test)\n",
    "acc_gnb = round(gnb.score(Xw_test,yw_test) * 100, 2)\n",
    "gnb_time=(round(time() - t0, 3))\n",
    "\n",
    "#Import scikit-learn metrics module for accuracy calculation\n",
    "from sklearn import metrics\n",
    "\n",
    "# evaluate accuracy\n",
    "print(\"Gaussian Naive Bayes Accuracy:\",metrics.accuracy_score(yw_test, yw_pred)*100,\"%\")\n",
    "print('Training time', gnb_time)\n",
    "cm = pd.DataFrame(confusion_matrix(yw_test, yw_pred))\n",
    "sns.heatmap(cm, annot=True, cmap=\"coolwarm_r\")"
   ]
  }
 ],
 "metadata": {
  "kernelspec": {
   "display_name": "Python 3",
   "language": "python",
   "name": "python3"
  },
  "language_info": {
   "codemirror_mode": {
    "name": "ipython",
    "version": 3
   },
   "file_extension": ".py",
   "mimetype": "text/x-python",
   "name": "python",
   "nbconvert_exporter": "python",
   "pygments_lexer": "ipython3",
   "version": "3.7.9"
  },
  "papermill": {
   "default_parameters": {},
   "duration": 19.980569,
   "end_time": "2021-06-19T13:02:42.544031",
   "environment_variables": {},
   "exception": null,
   "input_path": "__notebook__.ipynb",
   "output_path": "__notebook__.ipynb",
   "parameters": {},
   "start_time": "2021-06-19T13:02:22.563462",
   "version": "2.3.2"
  }
 },
 "nbformat": 4,
 "nbformat_minor": 5
}
